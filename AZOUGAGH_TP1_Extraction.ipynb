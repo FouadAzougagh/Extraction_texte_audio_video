{
  "nbformat": 4,
  "nbformat_minor": 0,
  "metadata": {
    "colab": {
      "name": "AZOUGAGH_TP1_Extraction.ipynb",
      "provenance": [],
      "collapsed_sections": [],
      "toc_visible": true
    },
    "kernelspec": {
      "name": "python3",
      "display_name": "Python 3"
    }
  },
  "cells": [
    {
      "cell_type": "markdown",
      "metadata": {
        "id": "INldvbQLxZH0"
      },
      "source": [
        "Université Paul Sabatier\n",
        "\n",
        "EIMAB3H1 - Analyse et exploitation de données\n",
        "\n",
        "Enseignant : **José G. Moreno**"
      ]
    },
    {
      "cell_type": "markdown",
      "metadata": {
        "id": "Cf4F4zWIxbVx"
      },
      "source": [
        "## TP 1. Extraction d'information sur documents textuels (1/3)\n",
        "Identifier correctement la présence de noms ou informations dans un texte est une tâche important de\n",
        "l'extraction d'information. Par exemple dans le texte\n",
        "\n",
        "```\n",
        "« Le Front Fatah Al-Cham, qui prétend avoir rompu avec Al-Qaida, mais que \n",
        "Washington considère toujours comme terroriste, occupe une place centrale sur\n",
        "l’échiquier rebelle. D’où la difficulté à départager bons et mauvais rebelles. En\n",
        "savoir plus sur http://www.lemonde.fr/#ltXX2jh9UwX7vbDM.99 »\n",
        "```\n",
        ", les noms ou informations à identifier sont :\n",
        "- Front Fatah Al-Cham -> Organisation\n",
        "- Al-Qaida -> Organisation\n",
        "- Washington -> Lieu\n",
        "- http://www.lemonde.fr/#ltXX2jh9UwX7vbDM.99 -> URL\n",
        "\n",
        "ou dans le texte\n",
        "```\n",
        "« Un futur pont sur la Saône sera baptisé du nom de Jacques Chirac « en hommage\n",
        "à l’attachement de l’ancien président de la République aux territoires et à leur unité\n",
        "», ont annoncé mardi les départements de l’Ain et de la Saône-et-Loire.\n",
        "Disparu jeudi, « Jacques Chirac était de ceux qui savaient écouter, comprendre et\n",
        "agir pour le bien de ses concitoyens », soulignent Jean Deguerry, président du\n",
        "département de l’Ain, et André Accary, président du département de Saône-et-Loire,\n",
        "dans un communiqué commun ».\n",
        "```\n",
        "\n",
        "- Saône -> Lieu\n",
        "- Jacques Chirac -> Personne\n",
        "- Ain -> Lieu\n",
        "- Saône-et-Loire -> Lieu\n",
        "- Jean Deguerry -> Personne\n",
        "- André Accary -> Personne\n",
        "\n",
        "Dans ces deux exemples, nous nous limitons à quatre types de noms ou informations (Organisation,\n",
        "Lieu, Personne et URL), cependant des autres informations peuvent nous intéresser comme les dates,\n",
        "les adresses mails, les noms de produits, les événements, etc, dans la littérature, ces noms ou\n",
        "informations sont appelés des « entités nommées ». "
      ]
    },
    {
      "cell_type": "markdown",
      "metadata": {
        "id": "9cRx0WI7x3M2"
      },
      "source": [
        "### I - L'usage des dictionnaires\n",
        "Pour identifier certains types d’entités nommées l'utilisation de dictionnaires est courante. Par exemple,\n",
        "l'identification d'un lieu comme un ville ou un pays. Nous allons construire un dictionnaire de pays à\n",
        "partir de Wikipédia simple (https://simple.wikipedia.org/wiki/Main_Page). \n",
        "\n",
        "\n",
        "Wikipédia est une des ressources disponibles sur Internet le plus complètes et de\n",
        "libre accès. Elle est aussi très utilisé comme source d'information par plusieurs entreprises. Par exemple\n",
        "le projet Freebase de Google a été créé à partir de donnés extrait de Wikipédia parmi autres sources.\n",
        "Aujourd'hui devenu le Knowledge Graph est la base de connaissance utilisé par Google pour améliorer\n",
        "son moteur de recherche.\n",
        "Parmi toutes les informations disponibles sur Wikipédia, la listes de listes est une source important\n",
        "d'information (pour la Wikipédia en anglais utilisez l'article List of list of list). Avec l'article respective,\n",
        "nous allons générer un dictionnaire de la liste des pays par exemple :\n"
      ]
    },
    {
      "cell_type": "code",
      "metadata": {
        "id": "xubz2Rljxa1d",
        "outputId": "3282181f-475a-4fbd-99a4-784813a356e3",
        "colab": {
          "base_uri": "https://localhost:8080/"
        }
      },
      "source": [
        "!wget https://dumps.wikimedia.org/simplewiki/20200901/simplewiki-20200901-pages-articles.xml.bz2\n",
        "!bzip2 -d simplewiki-20200901-pages-articles.xml.bz2\n",
        "! echo \"<mediawiki>\" > simplewiki-20200901-pages-articles.xml.clean\n",
        "! tail -n +2 simplewiki-20200901-pages-articles.xml >> simplewiki-20200901-pages-articles.xml.clean"
      ],
      "execution_count": null,
      "outputs": [
        {
          "output_type": "stream",
          "text": [
            "--2020-11-08 18:28:18--  https://dumps.wikimedia.org/simplewiki/20200901/simplewiki-20200901-pages-articles.xml.bz2\n",
            "Resolving dumps.wikimedia.org (dumps.wikimedia.org)... 208.80.154.7, 2620:0:861:1:208:80:154:7\n",
            "Connecting to dumps.wikimedia.org (dumps.wikimedia.org)|208.80.154.7|:443... connected.\n",
            "HTTP request sent, awaiting response... 200 OK\n",
            "Length: 179777498 (171M) [application/octet-stream]\n",
            "Saving to: ‘simplewiki-20200901-pages-articles.xml.bz2’\n",
            "\n",
            "simplewiki-20200901 100%[===================>] 171.45M  4.68MB/s    in 36s     \n",
            "\n",
            "2020-11-08 18:28:54 (4.79 MB/s) - ‘simplewiki-20200901-pages-articles.xml.bz2’ saved [179777498/179777498]\n",
            "\n"
          ],
          "name": "stdout"
        }
      ]
    },
    {
      "cell_type": "code",
      "metadata": {
        "id": "SmBo4nW-z7N_"
      },
      "source": [
        "import pandas as pd\n",
        "import xml.etree.ElementTree as et\n",
        "\n",
        "def parse_XML(xml_file, df_cols): \n",
        "    \"\"\"Parse the input XML file and store the result in a pandas \n",
        "    DataFrame with the given columns. \n",
        "    \n",
        "    The first element of df_cols is supposed to be the identifier \n",
        "    variable, which is an attribute of each node element in the \n",
        "    XML data; other features will be parsed from the text content \n",
        "    of each sub-element. \n",
        "    \"\"\"\n",
        "    \n",
        "    xtree = et.parse(xml_file)\n",
        "    xroot = xtree.getroot()\n",
        "    rows = []\n",
        "    \n",
        "    for node in xroot: \n",
        "      if node.find(df_cols[0]) is not None:\n",
        "        res = [node.find(df_cols[0]).text]\n",
        "        for el in df_cols[1:]: \n",
        "            if node is not None and node.find('revision',).find(el,) is not None:\n",
        "                res.append(node.find('revision',).find(el).text)\n",
        "            else: \n",
        "                res.append(None)\n",
        "        rows.append({df_cols[i]: res[i] \n",
        "                     for i, _ in enumerate(df_cols)})\n",
        "    \n",
        "    out_df = pd.DataFrame(rows, columns=df_cols)\n",
        "        \n",
        "    return out_df"
      ],
      "execution_count": null,
      "outputs": []
    },
    {
      "cell_type": "code",
      "metadata": {
        "id": "4mZMgJQYz_u0",
        "outputId": "edab13bd-4178-4ba5-a406-4267c48c7e6e",
        "colab": {
          "base_uri": "https://localhost:8080/",
          "height": 402
        }
      },
      "source": [
        "df = parse_XML(\"simplewiki-20200901-pages-articles.xml.clean\", [\"title\", \"text\"])\n",
        "df"
      ],
      "execution_count": null,
      "outputs": [
        {
          "output_type": "execute_result",
          "data": {
            "text/html": [
              "<div>\n",
              "<style scoped>\n",
              "    .dataframe tbody tr th:only-of-type {\n",
              "        vertical-align: middle;\n",
              "    }\n",
              "\n",
              "    .dataframe tbody tr th {\n",
              "        vertical-align: top;\n",
              "    }\n",
              "\n",
              "    .dataframe thead th {\n",
              "        text-align: right;\n",
              "    }\n",
              "</style>\n",
              "<table border=\"1\" class=\"dataframe\">\n",
              "  <thead>\n",
              "    <tr style=\"text-align: right;\">\n",
              "      <th></th>\n",
              "      <th>title</th>\n",
              "      <th>text</th>\n",
              "    </tr>\n",
              "  </thead>\n",
              "  <tbody>\n",
              "    <tr>\n",
              "      <th>0</th>\n",
              "      <td>April</td>\n",
              "      <td>{{monththisyear|4}}\\n'''April''' is the fourth...</td>\n",
              "    </tr>\n",
              "    <tr>\n",
              "      <th>1</th>\n",
              "      <td>August</td>\n",
              "      <td>{{monththisyear|8}}\\n'''August''' (Aug.) is th...</td>\n",
              "    </tr>\n",
              "    <tr>\n",
              "      <th>2</th>\n",
              "      <td>Art</td>\n",
              "      <td>[[Category:Art| ]]\\n[[Category:Non-verbal comm...</td>\n",
              "    </tr>\n",
              "    <tr>\n",
              "      <th>3</th>\n",
              "      <td>A</td>\n",
              "      <td>{{about| the first [[letter]] in the [[alphabe...</td>\n",
              "    </tr>\n",
              "    <tr>\n",
              "      <th>4</th>\n",
              "      <td>Air</td>\n",
              "      <td>{{Simplify|date=February 2020}}\\n[[Image:Kawas...</td>\n",
              "    </tr>\n",
              "    <tr>\n",
              "      <th>...</th>\n",
              "      <td>...</td>\n",
              "      <td>...</td>\n",
              "    </tr>\n",
              "    <tr>\n",
              "      <th>319768</th>\n",
              "      <td>Workers and Peasants Party</td>\n",
              "      <td>Bhagat sing was the grastest Second freedom fi...</td>\n",
              "    </tr>\n",
              "    <tr>\n",
              "      <th>319769</th>\n",
              "      <td>Vladislav Krapivin</td>\n",
              "      <td>[[File:Krapivin 2006.jpg|right|200px]]\\n'''Vla...</td>\n",
              "    </tr>\n",
              "    <tr>\n",
              "      <th>319770</th>\n",
              "      <td>Tomomi Inada</td>\n",
              "      <td>{{Infobox officeholder\\n|name           = Tomo...</td>\n",
              "    </tr>\n",
              "    <tr>\n",
              "      <th>319771</th>\n",
              "      <td>Shigeru Ishiba</td>\n",
              "      <td>{{Infobox officeholder\\n|name           = Shig...</td>\n",
              "    </tr>\n",
              "    <tr>\n",
              "      <th>319772</th>\n",
              "      <td>The Comey Rule</td>\n",
              "      <td>{{italictitle}}\\n'''''The Comey Rule''''' is a...</td>\n",
              "    </tr>\n",
              "  </tbody>\n",
              "</table>\n",
              "<p>319773 rows × 2 columns</p>\n",
              "</div>"
            ],
            "text/plain": [
              "                             title                                               text\n",
              "0                            April  {{monththisyear|4}}\\n'''April''' is the fourth...\n",
              "1                           August  {{monththisyear|8}}\\n'''August''' (Aug.) is th...\n",
              "2                              Art  [[Category:Art| ]]\\n[[Category:Non-verbal comm...\n",
              "3                                A  {{about| the first [[letter]] in the [[alphabe...\n",
              "4                              Air  {{Simplify|date=February 2020}}\\n[[Image:Kawas...\n",
              "...                            ...                                                ...\n",
              "319768  Workers and Peasants Party  Bhagat sing was the grastest Second freedom fi...\n",
              "319769          Vladislav Krapivin  [[File:Krapivin 2006.jpg|right|200px]]\\n'''Vla...\n",
              "319770                Tomomi Inada  {{Infobox officeholder\\n|name           = Tomo...\n",
              "319771              Shigeru Ishiba  {{Infobox officeholder\\n|name           = Shig...\n",
              "319772              The Comey Rule  {{italictitle}}\\n'''''The Comey Rule''''' is a...\n",
              "\n",
              "[319773 rows x 2 columns]"
            ]
          },
          "metadata": {
            "tags": []
          },
          "execution_count": 4
        }
      ]
    },
    {
      "cell_type": "markdown",
      "metadata": {
        "id": "MXaabqToyEz1"
      },
      "source": [
        "Nous allons accéder à la page  Wikipédia « List of countries » qui contient la liste des pays :"
      ]
    },
    {
      "cell_type": "code",
      "metadata": {
        "id": "DkWDZDS-1w1c",
        "outputId": "a011eafc-f22a-4704-bac4-9228e76b1058",
        "colab": {
          "base_uri": "https://localhost:8080/"
        }
      },
      "source": [
        "print(df[df['title']=='List of countries']['text'].values)"
      ],
      "execution_count": null,
      "outputs": [
        {
          "output_type": "stream",
          "text": [
            "['This is a list of [[sovereign state]]s.\\n\\n{| class=\"sortable wikitable\" style=\"background:white; text-align:left;\"\\n|-\\n! style=\"width:35%\" |Common and formal names\\n! style=\"width:12.5%;\" |Membership within the [[United Nations System|UN System]]{{efn|This column indicates whether or not a state is a member of the [[United Nations]]. It also indicates which non-member states participate in the [[United Nations System]] through membership in the [[International Atomic Energy Agency]] or one of the [[List of specialized agencies of the United Nations|specialized agencies of the United Nations]]. All United Nations members belong to at least one specialized agency and are parties to the statute of the [[International Court of Justice]].}}\\n! style=\"width:12.5%;\" |Sovereignty dispute{{efn|This column indicates whether or not a state is the subject of a major sovereignty dispute. Only states whose entire sovereignty is disputed by another state are listed.}}\\n! class=\"unsortable\" |Further information on status and recognition of sovereignty{{efn|Information is included on:\\n* The extent to which a state\\'s sovereignty is recognised internationally. More information can be found at [[List of states with limited recognition]],\\n* Membership in the [[European Union]],{{efn|name=\"EU\"}} where applicable,\\n* Any [[Dependent territory#Summary by country|dependencies]], if applicable, which are generally not part of the territory of the sovereign state,\\n* [[Federation|federal structure]] of the state, where applicable. More information can be found at [[Federated state]],\\n* Any [[List of autonomous areas by country|autonomous areas]] inside the territory of the sovereign state,\\n* Any situations where one person is the Head of State of more than one state,\\n* Any [[Government in exile|governments in exile]] recognised by at least one state.}}\\n|- style=\"background:Darkgrey;\"\\n|style=\"text-align:center;\"|<span style=\"display:none\">A AAA</span>\\n|<span style=\"display:none\">A AAA</span>\\n|<span style=\"display:none\">A AAA</span>\\n|\\n|- style=\"background:Lightgrey;\"\\n|style=\"text-align:center;\"|<span style=\"display:none\">ZZZ</span>↓ [[Member states of the United Nations|UN member states]] and [[United Nations General Assembly observers|observer states]] ↓\\n|<span style=\"display:none\">A AAA</span>\\n|<span style=\"display:none\">ZZZ</span>\\n|\\n|-\\n<!--This is not Abkhazia\\'s entry, but just a link to the \"non-UN members\" part below. The \"UN member state\" text keeps this link in place when sorting; it is not visible.-->\\n|style=\"vertical-align:top;\"|<span style=\"display:none\">ZZZ</span>Abkhazia → [[#Abkhazia|Abkhazia]]\\n|<span style=\"display:none\">A UN member state</span>\\n|<span style=\"display:none\">A None</span>\\n{{extent}}\\n|-\\n|style=\"vertical-align:top;\"|<span id=\"Afghanistan\"></span>\\'\\'\\'{{flag|Afghanistan}}\\'\\'\\'&nbsp;– Islamic Republic of Afghanistan\\n|<span style=\"display:none\">A</span> [[Member states of the United Nations|UN member state]]\\n|<span style=\"display:none\">A</span> None\\n{{extent}}\\n|-\\n|style=\"vertical-align:top;\"|<span id=\"Albania\"></span>\\'\\'\\'{{flag|Albania}}\\'\\'\\'&nbsp;– Republic of Albania\\n|<span style=\"display:none\">A</span> UN member state\\n|<span style=\"display:none\">A</span> None\\n{{extent}}\\n|-\\n|style=\"vertical-align:top;\"|<span id=\"Algeria\"></span>\\'\\'\\'{{flag|Algeria}}\\'\\'\\'&nbsp;– People\\'s Democratic Republic of Algeria\\n|<span style=\"display:none\">A</span> UN member state\\n|<span style=\"display:none\">A</span> None\\n{{extent}}\\n|-\\n|style=\"vertical-align:top;\"|<span id=\"Andorra\"></span>\\'\\'\\'{{flag|Andorra}}\\'\\'\\'&nbsp;– Principality of Andorra\\n|<span style=\"display:none\">A</span> UN member state\\n|<span style=\"display:none\">A</span> None\\n{{extent}}Andorra is a [[Diarchy|co-principality]] in which the office of head of state is jointly held \\'\\'ex officio\\'\\' by the [[President of France|French president]] and the bishop of the Roman Catholic [[Roman Catholic Diocese of Urgell|diocese of Urgell]],<ref>{{cite news|url=http://news.bbc.co.uk/1/hi/world/europe/country_profiles/992562.stm#leaders |title=Andorra country profile |publisher=BBC News |accessdate=8 November 2011}}</ref> who himself is appointed by the [[Holy See]].\\n|-\\n|style=\"vertical-align:top;\"|<span id=\"Angola\"></span>\\'\\'\\'{{flag|Angola}}\\'\\'\\'&nbsp;– Republic of Angola\\n|<span style=\"display:none\">A</span> UN member state\\n|<span style=\"display:none\">A</span> None\\n{{extent}}\\n|-\\n|style=\"vertical-align:top;\"|<span id=\"Antigua and Barbuda\"></span>\\'\\'\\'{{flag|Antigua and Barbuda}}\\'\\'\\'\\n|<span style=\"display:none\">A</span> UN member state\\n|<span style=\"display:none\">A</span> None\\n{{extent}}Antigua and Barbuda is a [[Commonwealth realm]]{{efn|name=\"realm\"|Commonwealth realms are members of the [[Commonwealth of Nations]] in which the head of state is Queen [[Elizabeth II]]. The realms are sovereign states; see [[Commonwealth realm#Relationship of the realms|Relationship of the realms]].}} with 1 autonomous region, [[Barbuda]].{{efn|name=\"autonomous\"|For more information on divisions with a high degree of autonomy, see the [[List of autonomous areas by country]].<ref>{{cite web\\n | author = Government of Antigua and Barbuda\\n | title = Chapter 44: The Barbuda Local Government Act\\n | work = Laws of Antigua and Barbuda\\n | url = http://www.laws.gov.ag/acts/chapters/cap-44.pdf\\n | accessdate = 10 November 2010}}</ref>}}\\n|-\\n|style=\"vertical-align:top;\"|<span id=\"Argentina\"></span>\\'\\'\\'{{flag|Argentina}}\\'\\'\\'&nbsp;– Argentine Republic{{efn|The Argentine Constitution (Art. 35) recognises the following denominations for Argentina: \"United Provinces of the Río de la Plata\", \"Argentine Republic\" and \"Argentine Confederation\"; furthermore, it establishes the usage of \"Argentine Nation\" for purposes of legislation.}}\\n|<span style=\"display:none\">A</span> UN member state\\n|<span style=\"display:none\">A</span> None\\n{{extent}}Member of the UNASUL.{{efn|name=\"UNASUL\"}} Argentina is a [[federation]] of [[Provinces of Argentina|23 provinces and 1 autonomous city]].\\n|-\\n|style=\"vertical-align:top;\"|<span id=\"Armenia\"></span>\\'\\'\\'{{flag|Armenia}}\\'\\'\\'&nbsp;– Republic of Armenia\\n|<span style=\"display:none\">A</span> UN member state\\n|None \\n{{extent}} Not recognized by [[#Pakistan|Pakistan]].<ref>{{cite web|format=PDF|url=http://www.foreignaffairscommittee.org/includes/content_files/Report%2021%20-%20Visit%20to%20Azerbaijan.pdf|title=Pakistan Worldview, Report 21, Visit to Azerbaijan|publisher=Senate of Pakistan Foreign Relations Committee|year=2008|url-status=dead|archive-url=https://web.archive.org/web/20090219074354/http://foreignaffairscommittee.org/includes/content_files/Report%2021%20-%20Visit%20to%20Azerbaijan.pdf|archive-date=19 February 2009}}</ref><ref>[http://www.today.az/news/politics/30102.html Nilufer Bakhtiyar: \"For Azerbaijan Pakistan does not recognise Armenia as a country\"] 13 September 2006 [14:03] – Today.Az</ref><ref>{{Cite news|url=http://news.az/articles/armenia/86325|title=Pakistan the only country not recognizing Armenia – envoy|publisher=News.Az|date=5 February 2014|accessdate=17 February 2014|quote=We are the only country not recognizing Armenia as a state.}}</ref>\\nSee [[Armenia–Pakistan relations]] and [[Nagorno-Karabakh conflict]].\\n|-\\n|style=\"vertical-align:top;\"|<span style=\"display:none\">ZZZ</span>Artsakh → [[#Artsakh|Artsakh]]\\n|<span style=\"display:none\">A UN member state</span>\\n|<span style=\"display:none\">A None</span>\\n|\\n|-\\n|style=\"vertical-align:top;\"|<span id=\"Australia\"></span>\\'\\'\\'{{flag|Australia}}\\'\\'\\'&nbsp;– Commonwealth of Australia\\n|<span style=\"display:none\">A</span> UN member state\\n|<span style=\"display:none\">A</span> None\\n{{extent}}Australia is a [[Commonwealth realm]]{{efn|name=\"realm\"}} and a [[federation]] of [[States and territories of Australia|six states and 10 territories]]. The external territories of Australia are:\\n* {{noflag|[[Ashmore and Cartier Islands]]}}\\n* {{noflag|[[Australian Antarctic Territory]]}}\\n* {{flag|Christmas Island}}\\n* {{flag|Cocos (Keeling) Islands}}\\n* {{noflag|[[Coral Sea Islands Territory]]}}\\n* {{noflag|[[Heard Island and McDonald Islands]]}}\\n* {{flag|Norfolk Island}}\\n|-\\n|style=\"vertical-align:top;\"|<span id=\"Austria\"></span>\\'\\'\\'{{flag|Austria}}\\'\\'\\'&nbsp;– Republic of Austria\\n|<span style=\"display:none\">A</span> UN member state\\n|<span style=\"display:none\">A</span> None\\n{{extent}}Member of the [[European Union]].{{efn|The member states of the [[European Union]] have transferred part of their sovereignty in the form of legislative, executive, and judicial powers to the institutions of the EU, which is an example of [[supranational union]]. The EU has 28 member states.<ref>[http://europa.eu/abc/european_countries/eu_members/index_en.htm Europa]. Retrieved 28 February 2011</ref>|name=\"EU\"}} Austria is a [[federation]] of [[States of Austria|nine states]] (Bundesländer).\\n|-\\n|style=\"vertical-align:top;\"|<span id=\"Azerbaijan\"></span>\\'\\'\\'{{flag|Azerbaijan}}\\'\\'\\'&nbsp;– Republic of Azerbaijan\\n|<span style=\"display:none\">A</span> UN member state\\n|<span style=\"display:none\">A</span> None\\n{{extent}}Azerbaijan contains two autonomous regions, [[Nakhchivan Autonomous Republic|Nakhchivan]] and [[Nagorno-Karabakh]] (\\'\\'Dağlıq Qarabağ\\'\\').{{efn|name=\"autonomous\"}} The [[#Artsakh|Republic of Artsakh]], a de facto state, has been established in the latter.\\n|-\\n|style=\"vertical-align:top;\"|<span id=\"Bahamas\"></span>\\'\\'\\'{{flag|Bahamas, The}}\\'\\'\\'&nbsp;– Commonwealth of The Bahamas<ref>{{cite web|title=Bahamas, The {{!}} The Commonwealth|url=http://thecommonwealth.org/our-member-countries/bahamas|website=thecommonwealth.org|accessdate=12 March 2018|language=en}}</ref>\\n|<span style=\"display:none\">A</span> UN member state\\n|<span style=\"display:none\">A</span> None\\n{{extent}}The Bahamas is a [[Commonwealth realm]].{{efn|name=\"realm\"}}\\n|-\\n|style=\"vertical-align:top;\"|<span id=\"Bahrain\"></span>\\'\\'\\'{{flag|Bahrain}}\\'\\'\\'&nbsp;– Kingdom of Bahrain\\n|<span style=\"display:none\">A</span> UN member state\\n|<span style=\"display:none\">A</span> None\\n{{extent}}\\n|-\\n|style=\"vertical-align:top;\"|<span id=\"Bangladesh\"></span>\\'\\'\\'{{flag|Bangladesh}}\\'\\'\\'&nbsp;– People\\'s Republic of Bangladesh\\n|<span style=\"display:none\">A</span> UN member state\\n|<span style=\"display:none\">A</span> None\\n{{extent}}\\n|-\\n|style=\"vertical-align:top;\"|<span id=\"Barbados\"></span>\\'\\'\\'{{flag|Barbados}}\\'\\'\\'\\n|<span style=\"display:none\">A</span> UN member state\\n|<span style=\"display:none\">A</span> None\\n{{extent}}Barbados is a [[Commonwealth realm]].{{efn|name=\"realm\"}}\\n|-\\n|style=\"vertical-align:top;\"|<span id=\"Belarus\"></span>\\'\\'\\'{{flag|Belarus}}\\'\\'\\'&nbsp;– Republic of Belarus\\n|<span style=\"display:none\">A</span> UN member state\\n|<span style=\"display:none\">A</span> None\\n{{extent}}Belarus forms the [[Union State]] jointly with [[Russia]].\\n|-\\n|style=\"vertical-align:top;\"|<span id=\"Belgium\"></span>\\'\\'\\'{{flag|Belgium}}\\'\\'\\'&nbsp;– Kingdom of Belgium\\n|<span style=\"display:none\">A</span> UN member state\\n|<span style=\"display:none\">A</span> None\\n{{extent}}Member of the EU.{{efn|name=\"EU\"}} Belgium is a [[federation]] divided into [[Communities, regions and language areas of Belgium|linguistic communities and regions]].\\n|-\\n|style=\"vertical-align:top;\"|<span id=\"Belize\"></span>\\'\\'\\'{{flag|Belize}}\\'\\'\\'\\n|<span style=\"display:none\">A</span> UN member state\\n|<span style=\"display:none\">A</span> None\\n{{extent}}Belize is a [[Commonwealth realm]].{{efn|name=\"realm\"}}\\n|-\\n|style=\"vertical-align:top;\"|<span id=\"Benin\"></span>\\'\\'\\'{{flag|Benin}}\\'\\'\\'&nbsp;– Republic of Benin{{efn|Formerly referred to as [[Republic of Dahomey|Dahomey]], its official name until 1975.}}\\n|<span style=\"display:none\">A</span> UN member state\\n|<span style=\"display:none\">A</span> None\\n{{extent}}\\n|-\\n|style=\"vertical-align:top;\"|<span id=\"Bhutan\"></span>\\'\\'\\'{{flag|Bhutan}}\\'\\'\\'&nbsp;– Kingdom of Bhutan\\n|<span style=\"display:none\">A</span> UN member state\\n|<span style=\"display:none\">A</span> None\\n{{extent}}\\n|-\\n|style=\"vertical-align:top;\"|<span id=\"Bolivia\"></span>\\'\\'\\'{{flag|Bolivia}}\\'\\'\\'&nbsp;– Plurinational State of Bolivia\\n|<span style=\"display:none\">A</span> UN member state\\n|<span style=\"display:none\">A</span> None\\n{{extent}}Member of the UNASUL.{{efn|name=\"UNASUL\"}}\\n|-\\n|style=\"vertical-align:top;\"|<span id=\"Bosnia and Herzegovina\"></span>\\'\\'\\'{{flag|Bosnia and Herzegovina}}\\'\\'\\'\\n|<span style=\"display:none\">A</span> UN member state\\n|<span style=\"display:none\">A</span> None\\n{{extent}}Bosnia and Herzegovina is a federation of two constituent units:\\n* {{flag|Federation of Bosnia and Herzegovina}}\\n* {{flag|Republika Srpska}}\\nand [[Brčko District]], a self-governing administrative unit.<ref name=\"Stjepanović2015\">{{cite journal |title=Dual Substate Citizenship as Institutional Innovation: The Case of Bosnia\\'s Brčko District |journal=Nationalism and Ethnic Politics |year=2015 |pages=382–383 |first=Dejan |last=Stjepanović |volume=21 |issue=4 |doi=10.1080/13537113.2015.1095043 |issn=1353-7113 |eissn=1557-2986 |oclc=5927465455 }}</ref>\\n|-\\n|style=\"vertical-align:top;\"|<span id=\"Botswana\"></span>\\'\\'\\'{{flag|Botswana}}\\'\\'\\'&nbsp;– Republic of Botswana\\n|<span style=\"display:none\">A</span> UN member state\\n|<span style=\"display:none\">A</span> None\\n{{extent}}\\n|-\\n|style=\"vertical-align:top;\"|<span id=\"Brazil\"></span>\\'\\'\\'{{flag|Brazil}}\\'\\'\\'&nbsp;– Federative Republic of Brazil\\n|<span style=\"display:none\">A</span> UN member state\\n|<span style=\"display:none\">A</span> None\\n{{extent}}Member of UNASUL.{{efn|The member states of the [[Union of South American Nations]] have transferred part of their sovereignty in the form of legislative, executive, and judicial powers to the institutions of the UNASUL, which is an example of [[supranational union]]. The UNASUL has 12 member states.<ref>[https://elordenmundial.com/unasur-camino-integracion-sudamericana/ UNASUR: El camino hacia la integración sudamericana]. Retrieved 12 August 2018</ref>|name=\"UNASUL\"}} Brazil is a [[federation]] of [[States of Brazil|26 states and 1 federal district]].\\n|-\\n|style=\"vertical-align:top;\"|<span id=\"Brunei\"></span>\\'\\'\\'{{flag|Brunei}}\\'\\'\\'&nbsp;– Nation of Brunei, Abode of Peace\\n|<span style=\"display:none\">A</span> UN member state\\n|<span style=\"display:none\">A</span> None\\n{{extent}}\\n|-\\n|style=\"vertical-align:top;\"|<span id=\"Bulgaria\"></span>\\'\\'\\'{{flag|Bulgaria}}\\'\\'\\'&nbsp;– Republic of Bulgaria\\n|<span style=\"display:none\">A</span> UN member state\\n|<span style=\"display:none\">A</span> None\\n{{extent}}Member of the EU.{{efn|name=\"EU\"}}\\n|-\\n|style=\"vertical-align:top;\"|<span id=\"Burkina Faso\"></span>\\'\\'\\'{{flag|Burkina Faso}}\\'\\'\\'{{efn|Also known as Burkina; formerly referred to as Upper Volta, its official name until 1984.}}\\n|<span style=\"display:none\">A</span> UN member state\\n|<span style=\"display:none\">A</span> None\\n{{extent}}\\n|-\\n|style=\"vertical-align:top;\"|Burma → [[#Myanmar|Myanmar]]\\n|<span style=\"display:none\">A UN member state</span>\\n|<span style=\"display:none\">A None</span>\\n{{extent}}\\n|-\\n|style=\"vertical-align:top;\"|<span id=\"Burundi\"></span>\\'\\'\\'{{flag|Burundi}}\\'\\'\\'&nbsp;– Republic of Burundi\\n|<span style=\"display:none\">A</span> UN member state\\n|<span style=\"display:none\">A</span> None\\n{{extent}}\\n|-\\n|style=\"vertical-align:top;\"|<span id=\"Cambodia\"></span>\\'\\'\\'{{flag|Cambodia}}\\'\\'\\'&nbsp;– Kingdom of Cambodia\\n|<span style=\"display:none\">A</span> UN member state\\n|<span style=\"display:none\">A</span> None\\n{{extent}}\\n|-\\n|style=\"vertical-align:top;\"|<span id=\"Cameroon\"></span>\\'\\'\\'{{flag|Cameroon}}\\'\\'\\'&nbsp;– Republic of Cameroon\\n|<span style=\"display:none\">A</span> UN member state\\n|<span style=\"display:none\">A</span> None\\n{{extent}}\\n|-\\n|style=\"vertical-align:top;\"|<span id=\"Canada\"></span>\\'\\'\\'{{flag|Canada}}\\'\\'\\'{{efn|The legal name for Canada is the sole word; an officially sanctioned, though disused, name is Dominion of Canada (which includes its legal title); see: [[Name of Canada]], [[Dominion]].}}\\n|<span style=\"display:none\">A</span> UN member state\\n|<span style=\"display:none\">A</span> None\\n{{extent}}Canada is a [[Commonwealth realm]]{{efn|name=\"realm\"}} and a [[Canadian federalism|federation]] of [[Provinces and territories of Canada|10 provinces and 3 territories]].\\n|-\\n|style=\"vertical-align:top;\"|<span id=\"Cape Verde\"></span>\\'\\'\\'{{flag|Cape Verde}}\\'\\'\\'&nbsp;– Republic of Cabo Verde\\n|<span style=\"display:none\">A</span> UN member state\\n|<span style=\"display:none\">A</span> None\\n{{extent}}\\n|-\\n|style=\"vertical-align:top;\"|<span id=\"Central African Republic\"></span>\\'\\'\\'{{flag|Central African Republic}}\\'\\'\\'\\n|<span style=\"display:none\">A</span> UN member state\\n|<span style=\"display:none\">A</span> None\\n{{extent}}\\n|-\\n|style=\"vertical-align:top;\"|<span id=\"Chad\"></span>\\'\\'\\'{{flag|Chad}}\\'\\'\\'&nbsp;– Republic of Chad\\n|<span style=\"display:none\">A</span> UN member state\\n|<span style=\"display:none\">A</span> None\\n{{extent}}\\n|-\\n|style=\"vertical-align:top;\"|<span id=\"Chile\"></span>\\'\\'\\'{{flag|Chile}}\\'\\'\\'&nbsp;– Republic of Chile\\n|<span style=\"display:none\">A</span> UN member state\\n|<span style=\"display:none\">A</span> None\\n{{extent}}Member of the UNASUL.{{efn|name=\"UNASUL\"}} Chile has two \"special territories\" in the [[Valparaíso Region]]: [[Easter Island]] and [[Juan Fernández Islands]]\\n|-\\n|style=\"vertical-align:top;\"|<span id=\"China\"></span>\\'\\'\\'{{flag|China}}\\'\\'\\'&nbsp;– People\\'s Republic of China{{efn|name=\"ChinaTaiwan\"|The [[China|People\\'s Republic of China]] (PRC) is commonly referred to as \"China\", while the [[Taiwan|Republic of China]] (ROC) is commonly referred to as \"Taiwan\". The ROC is also occasionally known diplomatically as [[Chinese Taipei]], along with [[Chinese Taipei#Other alternative references to the Republic of China|other names]].}}\\n|<span style=\"display:none\">A</span> UN member state\\n| style=\"background:LightCoral;\" |[[Foreign relations of China#International recognition of the People\\'s Republic of China|Partially unrecognized]]. {{claimedby|ROC}}\\n{{extent}}The People\\'s Republic of China (PRC) contains five autonomous regions:{{efn|name=\"autonomous\"}}\\n* [[Guangxi]]\\n* [[Inner Mongolia]]\\n* [[Ningxia]]\\n* [[Xinjiang]]\\n* [[Tibet Autonomous Region|Tibet]]\\nAdditionally, it has sovereignty over the [[Special administrative regions of China|Special Administrative Regions]] of:\\n* {{flag|Hong Kong}}\\n* {{flag|Macau}}\\nChina claims, but does not control [[#Taiwan|Taiwan]], which is governed by a rival administration (the Republic of China) that claims all of China as its territory.{{efn|name=\"TAI2\"|In 1949, the Republic of China government led by the [[Kuomintang]] (KMT) lost the [[Chinese Civil War]] to the [[Communist Party of China]] (CPC) and set up a provisional capital in [[Taipei]]. The CPC established the PRC. As such, the [[political status of Taiwan|political status of the ROC and legal status of Taiwan]] (alongside the [[Free area of the Republic of China|territories]] under ROC jurisdiction) are in dispute. In 1971, the United Nations gave the [[China and the United Nations|China seat]] to the PRC and the ROC withdrew from the UN. Most states recognise the PRC to be the [[One-China policy|sole legitimate representative]] of all China, and the UN classifies Taiwan as \"[[Taiwan Province, People\\'s Republic of China|Taiwan, Province of China]]\". The ROC has de facto relations with most sovereign states. A significant political movement within Taiwan advocates [[Taiwan independence movement|Taiwan independence]].}}\\n\\nChina is not recognised by [[Foreign relations of China#Countries have no diplomatic relations with the PRC|19]] UN member states and the [[Holy See]], which, with the exception of Bhutan, recognise Taiwan instead.{{efn|See also [[Dates of establishment of diplomatic relations with the People\\'s Republic of China]] and [[Foreign relations of China]].}}\\n\\nChina controls part of the territory of [[Kashmir]], which is disputed by [[India]] and [[Pakistan]].\\n|-\\n|style=\"vertical-align:top;\"|China, Republic of → [[#Taiwan|Taiwan]]\\n|<span style=\"display:none\">A UN member state</span>\\n|<span style=\"display:none\">A None</span>\\n|\\n|-\\n|style=\"vertical-align:top;\"|<span id=\"Colombia\"></span>\\'\\'\\'{{flag|Colombia}}\\'\\'\\'&nbsp;– Republic of Colombia\\n|<span style=\"display:none\">A</span> UN member state\\n|<span style=\"display:none\">A</span> None\\n{{extent}}Member of the UNASUL.{{efn|name=\"UNASUL\"}}\\n|-\\n|style=\"vertical-align:top;\"|<span id=\"Comoros\"></span>\\'\\'\\'{{flag|Comoros}}\\'\\'\\'&nbsp;– Union of the Comoros\\n|<span style=\"display:none\">A</span> UN member state\\n|<span style=\"display:none\">A</span> None\\n{{extent}}Comoros is a [[federation]] of [[Politics of Comoros#Autonomous islands|3 islands]].{{efn|name=\"federal\"|More information on more or less [[federation|federal]] structures can be found at a [[Federation#Modern \\'federations\\'|List of federations]].<ref>Constitution of Comoros, Art. 1.</ref>}}\\n|-\\n|style=\"vertical-align:top;\"|<span id=\"Congo, Democratic Republic of the\"></span>\\'\\'\\'{{flag|Congo, Democratic Republic of the}}\\'\\'\\'{{efn|Also known as Congo-Kinshasa. Formerly referred to as [[Zaire]], its official name from 1971 to 1997.}}\\n|<span style=\"display:none\">A</span> UN member state\\n|<span style=\"display:none\">A</span> None\\n{{extent}}\\n|-\\n|style=\"vertical-align:top;\"|<span id=\"Congo, Republic of the\"></span>\\'\\'\\'{{flag|Congo, Republic of the}}\\'\\'\\'{{efn|Also known as Congo-Brazzaville.}}\\n|<span style=\"display:none\">A</span> UN member state\\n|<span style=\"display:none\">A</span> None\\n{{extent}}\\n|-\\n|style=\"vertical-align:top;\"|<span style=\"display:none\">ZZZ</span>Cook Islands → [[#Cook Islands|Cook Islands]]\\n|<span style=\"display:none\">A UN member state</span>\\n|<span style=\"display:none\">A None</span>\\n{{extent}}\\n|-\\n|style=\"vertical-align:top;\"|<span id=\"Costa Rica\"></span>\\'\\'\\'{{flag|Costa Rica}}\\'\\'\\'&nbsp;– Republic of Costa Rica\\n|<span style=\"display:none\">A</span> UN member state\\n|<span style=\"display:none\">A</span> None\\n{{extent}}\\n|-\\n|style=\"vertical-align:top;\"|<span id=\"Croatia\"></span>\\'\\'\\'{{flag|Croatia}}\\'\\'\\'&nbsp;– Republic of Croatia\\n|<span style=\"display:none\">A</span> UN member state\\n|<span style=\"display:none\">A</span> None\\n{{extent}}Member of the EU.{{efn|name=\"EU\"}}\\n|-\\n|style=\"vertical-align:top;\"|<span id=\"Cuba\"></span>\\'\\'\\'{{flag|Cuba}}\\'\\'\\'&nbsp;– Republic of Cuba\\n|<span style=\"display:none\">A</span> UN member state\\n|<span style=\"display:none\">A</span> None\\n{{extent}}\\n|-\\n|style=\"vertical-align:top;\"|<span id=\"Cyprus\"></span>\\'\\'\\'{{flag|Cyprus}}\\'\\'\\'&nbsp;– Republic of Cyprus\\n|<span style=\"display:none\">A</span> UN member state\\n| style=\"background:LightCoral;\" |Not recognized by [[#Turkey|Turkey]]<ref>{{Cite news|url=http://www.cnn.com/2010/OPINION/07/07/kakouris.cyprus/|publisher=CNN|title=Cyprus is not at peace with Turkey|author=Andreas S. Kakouris|date=9 July 2010|accessdate=17 May 2014|quote=Turkey stands alone in violation of the will of the international community. It is the only country to recognize the \"TRNC\" and is the only country that does not recognize the Republic of Cyprus and its government.}}</ref><!-- and [[#Northern Cyprus|Northern Cyprus]]{{cn|date=17 May 2014}} -->\\n{{extent}}Member of the EU.{{efn|name=\"EU\"}} The northeastern part of the island is the \\'\\'de facto\\'\\' state of [[#Northern Cyprus|Northern Cyprus]]. See [[Foreign relations of Cyprus]] and [[Cyprus dispute]]. [[Turkey]] refers to the Republic of Cyprus government as \"The Greek Cypriot Administration of Southern Cyprus\".<ref name=CypriotAdmin>{{cite web|url=https://www.ab.gov.tr/greek-administration-of-southern-cyprus_255_en.html|title=Greek Administration of Southern Cyprus|website=Republic of Turkey: Ministry of EU Affairs|date=5 June 2017|accessdate=27 January 2018}}</ref>\\n|-\\n|style=\"vertical-align:top;\"|<span id=\"Czech Republic\"></span>\\'\\'\\'{{flag|Czech Republic}}\\'\\'\\'{{efn|A simpler official short name has been encouraged by the Czech government, \"\\'\\'Czechia\\'\\'\". By 2017, this variant remains uncommon. Nevertheless, this term has been adopted by several companies and organisations, including Google Maps, instead of the term \"\\'\\'Czech Republic\\'\\'\". See [[Name of the Czech Republic]]}}\\n|<span style=\"display:none\">A</span> UN member state\\n|<span style=\"display:none\">A</span> None\\n{{extent}}Member of the EU.{{efn|name=\"EU\"}}\\n|-\\n|style=\"vertical-align:top;\"|Democratic People\\'s Republic of Korea → [[#Korea North|Korea, North]]\\n|<span style=\"display:none\">A UN member state</span>\\n|<span style=\"display:none\">A None</span>\\n|\\n|-\\n|style=\"vertical-align:top;\"|Democratic Republic of the Congo → [[#Congo, Democratic Republic of the|Congo, Democratic Republic of the]]\\n|<span style=\"display:none\">A UN member state</span>\\n|<span style=\"display:none\">A None</span>\\n|\\n|-\\n|style=\"vertical-align:top;\"|<span id=\"Denmark\"></span>\\'\\'\\'{{flag|Denmark}}\\'\\'\\'&nbsp;– Kingdom of Denmark\\n|<span style=\"display:none\">A</span> UN member state\\n|<span style=\"display:none\">A</span> None\\n{{extent}}Member of the EU.{{efn|name=\"EU\"}} The [[Kingdom of Denmark]] includes 2 self-governing territories:\\n\\n* {{flag|Faroe Islands}}\\n* {{flag|Greenland}}\\n\\nThe continental territory of Denmark, the Faroe Islands, and Greenland form the three constituent countries of the Kingdom. The designation \"Denmark\" can refer either to continental Denmark or to the short name for the entire Kingdom (e.g. in international organizations). The Kingdom of Denmark as a whole is a member of the EU, but EU law does not apply to the Faroe Islands and Greenland.<ref>{{cite web|url=http://www.stm.dk/_p_12710.html |title=Archived copy |accessdate=20 May 2015 |url-status=dead |archiveurl=https://web.archive.org/web/20150910005827/http://www.stm.dk/_p_12710.html |archivedate=10 September 2015 }}</ref><ref>{{cite web|url=http://www.stm.dk/_p_12712.html |title=Archived copy |accessdate=20 May 2014 |url-status=dead |archiveurl=https://web.archive.org/web/20140214060548/http://www.stm.dk/_p_12712.html |archivedate=14 February 2014 }}</ref> Also see [[Greenland Treaty]].\\n|-\\n|style=\"vertical-align:top;\"|<span id=\"Djibouti\"></span>\\'\\'\\'{{flag|Djibouti}}\\'\\'\\'&nbsp;– Republic of Djibouti\\n|<span style=\"display:none\">A</span> UN member state\\n|<span style=\"display:none\">A</span> None\\n{{extent}}\\n|-\\n|style=\"vertical-align:top;\"|<span id=\"Dominica\"></span>\\'\\'\\'{{flag|Dominica}}\\'\\'\\'&nbsp;– Commonwealth of Dominica\\n|<span style=\"display:none\">A</span> UN member state\\n|<span style=\"display:none\">A</span> None\\n{{extent}}\\n|-\\n|style=\"vertical-align:top;\"|<span id=\"Dominican Republic\"></span>\\'\\'\\'{{flag|Dominican Republic}}\\'\\'\\'\\n|<span style=\"display:none\">A</span> UN member state\\n|<span style=\"display:none\">A</span> None\\n{{extent}}\\n|-\\n|style=\"vertical-align:top;\"|<span id=\"East Timor\"></span>\\'\\'\\'{{flag|East Timor}}\\'\\'\\'&nbsp;– Democratic Republic of Timor-Leste{{efn|The government of East Timor uses \"Timor-Leste\" as the English translation.}}\\n|<span style=\"display:none\">A</span> UN member state\\n|<span style=\"display:none\">A</span> None\\n{{extent}}\\n|-\\n|style=\"vertical-align:top;\"|<span id=\"Ecuador\"></span>\\'\\'\\'{{flag|Ecuador}}\\'\\'\\'&nbsp;– Republic of Ecuador\\n|<span style=\"display:none\">A</span> UN member state\\n|<span style=\"display:none\">A</span> None\\n{{extent}}Member of the UNASUL.{{efn|name=\"UNASUL\"}}\\n|-\\n|style=\"vertical-align:top;\"|<span id=\"Egypt\"></span>\\'\\'\\'{{flag|Egypt}}\\'\\'\\'&nbsp;– Arab Republic of Egypt\\n|<span style=\"display:none\">A</span> UN member state\\n|<span style=\"display:none\">A</span> None\\n{{extent}}\\n|-\\n|style=\"vertical-align:top;\"|<span id=\"El Salvador\"></span>\\'\\'\\'{{flag|El Salvador}}\\'\\'\\'&nbsp;– Republic of El Salvador\\n|<span style=\"display:none\">A</span> UN member state\\n|<span style=\"display:none\">A</span> None\\n{{extent}}\\n|-\\n|style=\"vertical-align:top;\"|<span id=\"Equatorial Guinea\"></span>\\'\\'\\'{{flag|Equatorial Guinea}}\\'\\'\\'&nbsp;– Republic of Equatorial Guinea\\n|<span style=\"display:none\">A</span> UN member state\\n|<span style=\"display:none\">A</span> None\\n{{extent}}\\n|-\\n|style=\"vertical-align:top;\"|<span id=\"Eritrea\"></span>\\'\\'\\'{{flag|Eritrea}}\\'\\'\\'&nbsp;– State of Eritrea\\n|<span style=\"display:none\">A</span> UN member state\\n|<span style=\"display:none\">A</span> None\\n{{extent}}\\n|-\\n|style=\"vertical-align:top;\"|<span id=\"Estonia\"></span>\\'\\'\\'{{flag|Estonia}}\\'\\'\\'&nbsp;– Republic of Estonia\\n|<span style=\"display:none\">A</span> UN member state\\n|<span style=\"display:none\">A</span> None\\n{{extent}}Member of the EU.{{efn|name=\"EU\"}}\\n|-\\n|style=\"vertical-align:top;\"|eSwatini → [[#Swaziland|Swaziland]]\\n|<span style=\"display:none\">A UN member state</span>\\n|<span style=\"display:none\">A None</span>\\n{{extent}}\\n|-\\n|style=\"vertical-align:top;\"|<span id=\"Ethiopia\"></span>\\'\\'\\'{{flag|Ethiopia}}\\'\\'\\'&nbsp;– Federal Democratic Republic of Ethiopia\\n|<span style=\"display:none\">A</span> UN member state\\n|<span style=\"display:none\">A</span> None\\n{{extent}}Ethiopia is a [[federation]] of [[Regions of Ethiopia|nine regions and two chartered cities]].\\n<!--The European Union is not a sovereign state and should not be included-->\\n|-\\n|style=\"vertical-align:top;\"|<span id=\"Fiji\"></span>\\'\\'\\'{{flag|Fiji}}\\'\\'\\'&nbsp;– Republic of Fiji\\n|<span style=\"display:none\">A</span> UN member state\\n|<span style=\"display:none\">A</span> None\\n{{extent}}Fiji contains 1 autonomous region, [[Rotuma]].{{efn|name=\"autonomous\"}}<ref>{{Cite book\\n | title = Laws of Fiji\\n | place = Suva, Fiji\\n | publisher = Government of Fiji\\n | year = 1927\\n | edition = 1978\\n | chapter = Rotuma Act\\n | chapterurl = http://www.itc.gov.fj/lawnet/fiji_act/cap122.html\\n | accessdate = 10 July 2010 \\n | archiveurl=https://web.archive.org/web/20100621140255/http://www.itc.gov.fj/lawnet/fiji_act/cap122.html |archivedate=21 June 2010 }}</ref><ref>{{cite web\\n | author = Government of Fiji, Office of the Prime Minister\\n | title = Chapter 122: Rotuma Act\\n | work = Laws of Fiji\\n | publisher = [[University of the South Pacific]]\\n | year = 1978\\n | url = http://www.paclii.org/fj/legis/consol_act/ra103/\\n | accessdate = 10 November 2010}}</ref>\\n|-\\n|style=\"vertical-align:top;\"|<span id=\"Finland\"></span>\\'\\'\\'{{flag|Finland}}\\'\\'\\'&nbsp;– Republic of Finland\\n|<span style=\"display:none\">A</span> UN member state\\n|<span style=\"display:none\">A</span> None\\n{{extent}}Member of the EU.{{efn|name=\"EU\"}}\\n\\n* {{flag|Åland}} is a neutral and demilitarised autonomous region of Finland.{{efn|name=\"autonomous\"}}{{efn|[[Åland Islands|Åland]] was demilitarised by the [[Treaty of Paris (1856)|Treaty of Paris]] in 1856, which was later affirmed by the [[League of Nations]] in 1921, and in a somewhat different context reaffirmed in the treaty on Finland\\'s admission to the European Union in 1995.}}\\n|-\\n|style=\"vertical-align:top;\"|<span id=\"France\"></span>\\'\\'\\'{{flag|France}}\\'\\'\\'&nbsp;– French Republic\\n|<span style=\"display:none\">A</span> UN member state\\n|<span style=\"display:none\">A</span> None\\n{{extent}}Member of the EU.{{efn|name=\"EU\"}} France contains five overseas regions/departments: [[French Guiana]], [[Guadeloupe]], [[Martinique]], [[Mayotte]], and [[Réunion]]. France also includes the overseas territories of:\\n\\n* {{noflag|[[Clipperton Island]]}}\\n* {{flag|French Polynesia}}\\n* {{flag|New Caledonia}}\\n* {{noflag|[[Saint Barthélemy]]}}\\n* {{noflag|[[Collectivity of Saint Martin|Saint Martin]]}}\\n* {{noflag|[[Saint Pierre and Miquelon]]}}\\n* {{noflag|[[Wallis and Futuna]]}}\\n* {{noflag|[[French Southern and Antarctic Lands]]}}\\n|-\\n|style=\"vertical-align:top;\"|<span id=\"Gabon\"></span>\\'\\'\\'{{flag|Gabon}}\\'\\'\\'&nbsp;– Gabonese Republic\\n|<span style=\"display:none\">A</span> UN member state\\n|<span style=\"display:none\">A</span> None\\n{{extent}}\\n|-\\n|style=\"vertical-align:top;\"|<span id=\"Gambia\"></span><span style=\"display:none\">Gambia</span> \\'\\'\\'{{flag|Gambia, The}}\\'\\'\\'&nbsp;– Republic of The Gambia<ref>{{cite web|title=The Gambia profile|url=https://www.bbc.co.uk/news/world-africa-13376517|publisher=BBC News|accessdate=12 March 2018|date=14 February 2018}}</ref>\\n|<span style=\"display:none\">A</span> UN member state\\n|<span style=\"display:none\">A</span> None\\n{{extent}}\\n|-\\n|style=\"vertical-align:top;\"|<span id=\"Georgia\"></span>\\'\\'\\'{{flag|Georgia}}\\'\\'\\'\\n|<span style=\"display:none\">A</span> UN member state\\n|<span style=\"display:none\">A</span> None\\n{{extent}}Georgia contains two autonomous republics, [[Adjara]] and [[Government of the Autonomous Republic of Abkhazia|Abkhazia]].{{efn|name=\"autonomous\"}} In [[#Abkhazia|Abkhazia]] and [[#South Ossetia|South Ossetia]], de facto states have been formed.\\n|-\\n|style=\"vertical-align:top;\"|<span id=\"Germany\"></span>\\'\\'\\'{{flag|Germany}}\\'\\'\\'&nbsp;– Federal Republic of Germany\\n|<span style=\"display:none\">A</span> UN member state\\n|<span style=\"display:none\">A</span> None\\n{{extent}}Member of the EU.{{efn|name=\"EU\"}} Germany is a [[federation]] of [[States of Germany|16 federated states]] (Länder).\\n|-\\n|style=\"vertical-align:top;\"|<span id=\"Ghana\"></span>\\'\\'\\'{{flag|Ghana}}\\'\\'\\'&nbsp;– Republic of Ghana\\n|<span style=\"display:none\">A</span> UN member state\\n|<span style=\"display:none\">A</span> None\\n{{extent}}\\n|-\\n|style=\"vertical-align:top;\"|<span id=\"Greece\"></span>\\'\\'\\'{{flag|Greece}}\\'\\'\\'&nbsp;– Hellenic Republic\\n|<span style=\"display:none\">A</span> UN member state\\n|<span style=\"display:none\">A</span> None\\n{{extent}}Member of the EU.{{efn|name=\"EU\"}} [[Mount Athos]] is an autonomous part of Greece that is jointly governed by the multinational \"Holy Community\" on the mountain and a civil governor appointed by the Greek government.<ref>Constitution of Greece, Art. 105.</ref>\\n|-\\n|style=\"vertical-align:top;\"|<span id=\"Grenada\"></span>\\'\\'\\'{{flag|Grenada}}\\'\\'\\'\\n|<span style=\"display:none\">A</span> UN member state\\n|<span style=\"display:none\">A</span> None\\n{{extent}}Grenada is a [[Commonwealth realm]].{{efn|name=\"realm\"}}\\n|-\\n|style=\"vertical-align:top;\"|<span id=\"Guatemala\"></span>\\'\\'\\'{{flag|Guatemala}}\\'\\'\\'&nbsp;– Republic of Guatemala\\n|<span style=\"display:none\">A</span> UN member state\\n|<span style=\"display:none\">A</span> None\\n{{extent}}\\n|-\\n|style=\"vertical-align:top;\"|<span id=\"Guinea\"></span>\\'\\'\\'{{flag|Guinea}}\\'\\'\\'&nbsp;– Republic of Guinea{{efn|Also known as Guinea-Conakry.}}\\n|<span style=\"display:none\">A</span> UN member state\\n|<span style=\"display:none\">A</span> None\\n{{extent}}\\n|-\\n|style=\"vertical-align:top;\"|<span id=\"Guinea-Bissau\"></span>\\'\\'\\'{{flag|Guinea-Bissau}}\\'\\'\\'&nbsp;– Republic of Guinea-Bissau\\n|<span style=\"display:none\">A</span> UN member state\\n|<span style=\"display:none\">A</span> None\\n{{extent}}\\n|-\\n|style=\"vertical-align:top;\"|<span id=\"Guyana\"></span>\\'\\'\\'{{flag|Guyana}}\\'\\'\\'&nbsp;– Co-operative Republic of Guyana\\n|<span style=\"display:none\">A</span> UN member state\\n|<span style=\"display:none\">A</span> None\\n{{extent}}Member of the UNASUL.{{efn|name=\"UNASUL\"}}\\n|-\\n|style=\"vertical-align:top;\"|<span id=\"Haiti\"></span>\\'\\'\\'{{flag|Haiti}}\\'\\'\\'&nbsp;– Republic of Haiti\\n|<span style=\"display:none\">A</span> UN member state\\n|<span style=\"display:none\">A</span> None\\n{{extent}}\\n|-\\n|style=\"vertical-align:top;\"|Holy See → [[#Vatican City|Vatican City]]\\n|<span style=\"display:none\">A UN member state</span>\\n|<span style=\"display:none\">A None</span>\\n{{extent}}\\n|-\\n|style=\"vertical-align:top;\"|<span id=\"Honduras\"></span>\\'\\'\\'{{flag|Honduras}}\\'\\'\\'&nbsp;– Republic of Honduras\\n|<span style=\"display:none\">A</span> UN member state\\n|<span style=\"display:none\">A</span> None\\n{{extent}}\\n|-\\n|style=\"vertical-align:top;\"|<span id=\"Hungary\"></span>\\'\\'\\'{{flag|Hungary}}\\'\\'\\'\\n|<span style=\"display:none\">A</span> UN member state\\n|<span style=\"display:none\">A</span> None\\n{{extent}}Member of the EU.{{efn|name=\"EU\"}}\\n|-\\n|style=\"vertical-align:top;\"|<span id=\"Iceland\"></span>\\'\\'\\'{{flag|Iceland}}\\'\\'\\'{{efn|name=\"Republic\"|While sometimes referred to as the \"\\'\\'\\'Republic of Iceland\\'\\'\\'\"<ref>{{cite web|url=http://www.britannica.com/EBchecked/topic/281235/Iceland|title=Iceland - Culture, History, & People}}</ref><ref>http://unstats.un.org/unsd/geoinfo/ungegn/docs/26th-gegn-docs/WP/WP54_UNGEGN%20WG%20Country%20Names%20Document%202011.pdf</ref> and sometimes its counterpart \\'\\'Lýðveldið Ísland\\'\\' in Icelandic, the official name of the country is simply Iceland.<ref>{{cite web|url=http://www.visindavefur.is/svar.php?id=54970|title=Hvert er formlegt heiti landsins okkar?}}</ref> One example of the former is the name of the [[Constitution of Iceland]], which in Icelandic is \\'\\'Stjórnarskrá lýðveldisins Íslands\\'\\' and literally means \"the Constitution of the republic of Iceland\", but note that \"republic\" is not capitalized. The official title of the [[President of Iceland]] (\\'\\'Forseti Íslands\\'\\') does also not include the word republic as in some other republics. See [[Names for Iceland]].}}\\n|<span style=\"display:none\">A</span> UN member state\\n|<span style=\"display:none\">A</span> None\\n{{extent}}\\n|-\\n|style=\"vertical-align:top;\"|<span id=\"India\"></span>\\'\\'\\'{{flag|India}}\\'\\'\\'&nbsp;– Republic of India\\n|<span style=\"display:none\">A</span> UN member state\\n|<span style=\"display:none\">A</span> None\\n{{extent}}India is a [[federation]] of [[States and territories of India|29 states and seven union territories]]. India claims the entire territory of [[Kashmir]] as one of its states, but only exercises control over part of it, while the rest is controlled by the [[People\\'s Republic of China]] and [[Pakistan]].\\n|-\\n|style=\"vertical-align:top;\"|<span id=\"Indonesia\"></span>\\'\\'\\'{{flag|Indonesia}}\\'\\'\\'&nbsp;– Republic of Indonesia\\n|<span style=\"display:none\">A</span> UN member state\\n|<span style=\"display:none\">A</span> None\\n{{extent}}Indonesia has [[Provinces of Indonesia|five provinces]] with official special autonomy status: [[Aceh]], [[Jakarta|Jakarta SCR]], [[Yogyakarta Special Region|Yogyakarta SR]], [[Papua (province)|Papua]], and [[West Papua (province)|West Papua]].{{efn|name=\"autonomous\"}}\\n|-\\n|style=\"vertical-align:top;\"|<span id=\"Iran\"></span>\\'\\'\\'{{flag|Iran}}\\'\\'\\'&nbsp;– Islamic Republic of Iran\\n|<span style=\"display:none\">A</span> UN member state\\n|<span style=\"display:none\">A</span> None\\n{{extent}}\\n|-\\n|style=\"vertical-align:top;\"|<span id=\"Iraq\"></span>\\'\\'\\'{{flag|Iraq}}\\'\\'\\'&nbsp;– Republic of Iraq\\n|<span style=\"display:none\">A</span> UN member state\\n|<span style=\"display:none\">A</span> None\\n{{extent}}Iraq is a [[federation]]{{efn|name=\"federal\"}}<ref>[http://portal.unesco.org/ci/en/files/20704/11332732681iraqi_constitution_en.pdf/iraqi_constitution_en.pdf Iraqi constitution] {{webarchive|url=http://arquivo.pt/wayback/20160518175432/http://portal.unesco.org/ci/en/files/20704/11332732681iraqi_constitution_en.pdf/iraqi_constitution_en.pdf |date=18 May 2016 }}</ref> of [[Governorates of Iraq|19 governorates]], five of which make up the autonomous [[Iraqi Kurdistan]].{{efn|name=\"autonomous\"}}\\n|-\\n|style=\"vertical-align:top;\"|<span id=\"Ireland\"></span>\\'\\'\\'{{flag|Ireland}}\\'\\'\\'{{#tag:ref|\"Ireland\" is the official \\'\\'name\\'\\' in English. \"Republic of Ireland\" (the official \\'\\'description\\'\\' in English) and \"Éire\" (the official name in Irish) have sometimes been used unofficially to distinguish the state from the larger [[Ireland|island of Ireland]]; this is officially deprecated.<ref>{{cite journal |journal=Journal of British Studies |volume=46 |pages=72–90 |number=1 |date=January 2007 |publisher=Cambridge University Press on behalf of The North American Conference on British Studies |doi=10.1086/508399 |jstor=10.1086/508399 |title=The Irish Free State/Éire/Republic of Ireland/Ireland: \"A Country by Any Other Name\"? |last=Daly |first=Mary E. }}</ref> See [[names of the Irish state]].}}\\n|<span style=\"display:none\">A</span> UN member state\\n|<span style=\"display:none\">A</span> None\\n{{extent}}Member of the EU.{{efn|name=\"EU\"}}\\n|-\\n|style=\"vertical-align:top;\"|<span id=\"Israel\"></span>\\'\\'\\'{{flag|Israel}}\\'\\'\\'&nbsp;– State of Israel\\n|<span style=\"display:none\">A</span> UN member state\\n| style=\"background:LightCoral;\" |[[International recognition of Israel|Partially unrecognized]]\\n{{extent}}Israel exerts strong control over the territory claimed by [[#Palestine|Palestine]]. Israel annexed [[East Jerusalem]],<ref>{{cite web|url=https://www.knesset.gov.il/laws/special/eng/basic10_eng.htm|title=Basic Law: Jerusalem, Capital of Israel|website=knesset.gov.il}}</ref> an annexation not recognised by the international community.<ref name=dis>{{cite web|url=https://www.cia.gov/library/publications/the-world-factbook/fields/2070.html |title=Disputes: International |work=The World Factbook |accessdate=8 November 2011}}</ref> Israel maintains [[West Bank Areas in the Oslo II Accord|varying levels of control]] over the rest of the [[West Bank]], and although Israel no longer has a permanent civilian or military presence in the [[Gaza Strip]], following its [[Israel\\'s unilateral disengagement plan|unilateral disengagement]], it is still considered by some to be the occupying power under international law.\\n<ref>{{cite web\\n | last = Gold\\n | first = Dore\\n |author2=Institute for Contemporary Affairs\\n | title = Legal Acrobatics: The Palestinian Claim that Gaza is Still \"Occupied\" Even After Israel Withdraws\\n | work = Jerusalem Issue Brief, Vol. 5, No. 3\\n | publisher = Jerusalem Center for Public Affairs\\n | date = 26 August 2005\\n | url = http://www.jcpa.org/brief/brief005-3.htm\\n | accessdate = 16 July 2010\\n}}</ref>\\n<ref>{{cite web\\n | last = Bell\\n | first = Abraham\\n | title = International Law and Gaza: The Assault on Israel\\'s Right to Self-Defense\\n | work = Jerusalem Issue Brief, Vol. 7, No. 29\\n | publisher = Jerusalem Center for Public Affairs\\n | date = 28 January 2008\\n | url = http://www.jcpa.org/brief/brief005-3.htm\\n | accessdate = 16 July 2010\\n}}</ref>\\n<ref>{{Cite press release\\n | title = Address by Foreign Minister Livni to the 8th Herzliya Conference\\n | publisher = Ministry of Foreign Affairs of Israel\\n | date = 22 January 2008\\n | url = http://www.mfa.gov.il/MFA/Government/Speeches+by+Israeli+leaders/2008/Address+by+FM+Livni+to+the+8th+Herzliya+Conference+22-Jan-2008.htm?DisplayMode=print\\n | accessdate = 16 July 2010\\n}}</ref>\\n<ref>{{cite web\\n | last = Salih\\n | first = Zak M.\\n | title = Panelists Disagree Over Gaza\\'s Occupation Status\\n | publisher = [[University of Virginia School of Law]]\\n | date = 17 November 2005\\n | url = http://www.law.virginia.edu/html/news/2005_fall/gaza.htm\\n | accessdate = 16 July 2010\\n | archive-url = https://web.archive.org/web/20160303200844/http://www.law.virginia.edu/html/news/2005_fall/gaza.htm\\n | archive-date = 3 March 2016\\n | url-status = dead\\n | df = dmy-all\\n}}</ref>\\n<ref>{{cite web\\n | title = Israel: \\'Disengagement\\' Will Not End Gaza Occupation\\n | publisher = Human Rights Watch\\n | date = 29 October 2004\\n | url = https://www.hrw.org/english/docs/2004/10/29/isrlpa9577.htm\\n | accessdate = 16 July 2010}}\\n</ref>\\nIsrael is not recognised as a state by [[International recognition of Israel|32 UN members]] (including most Arab states) nor by the [[Sahrawi Arab Democratic Republic|SADR]].\\n|-\\n|style=\"vertical-align:top;\"|<span id=\"Italy\"></span>\\'\\'\\'{{flag|Italy}}\\'\\'\\'&nbsp;– Italian Republic\\n|<span style=\"display:none\">A</span> UN member state\\n|<span style=\"display:none\">A</span> None\\n{{extent}}Member of the EU.{{efn|name=\"EU\"}} [[Italy]] has 5 autonomous regions,{{efn|name=\"autonomous\"}} with varying levels of autonomy from the [[Government of Italy|central government of Italy]], and known officially as \"special status regions\":\\n* {{flag|Aosta Valley}}\\n* {{flag|Friuli-Venezia Giulia}}\\n* {{flag|Sardinia}}\\n* {{flag|Sicily}}\\n* {{flag|Trentino-Alto Adige/Südtirol}}\\n|-\\n|style=\"vertical-align:top;\"|<span id=\"Ivory Coast\"></span>\\'\\'\\'{{flag|Ivory Coast}}\\'\\'\\'&nbsp;– Republic of Côte d\\'Ivoire\\n|<span style=\"display:none\">A</span> UN member state\\n|<span style=\"display:none\">A</span> None\\n{{extent}}\\n|-\\n|style=\"vertical-align:top;\"|<span id=\"Jamaica\"></span>\\'\\'\\'{{flag|Jamaica}}\\'\\'\\'\\n|<span style=\"display:none\">A</span> UN member state\\n|<span style=\"display:none\">A</span> None\\n{{extent}}Jamaica is a [[Commonwealth realm]].{{efn|name=\"realm\"}}\\n|-\\n|style=\"vertical-align:top;\"|<span id=\"Japan\"></span>\\'\\'\\'{{flag|Japan}}\\'\\'\\'\\n|<span style=\"display:none\">A</span> UN member state\\n|<span style=\"display:none\">A</span> None\\n{{extent}}\\n|-\\n|style=\"vertical-align:top;\"|<span id=\"Jordan\"></span>\\'\\'\\'{{flag|Jordan}}\\'\\'\\'&nbsp;– Hashemite Kingdom of Jordan\\n|<span style=\"display:none\">A</span> UN member state\\n|<span style=\"display:none\">A</span> None\\n{{extent}}\\n|-\\n|style=\"vertical-align:top;\"|<span id=\"Kazakhstan\"></span>\\'\\'\\'{{flag|Kazakhstan}}\\'\\'\\'&nbsp;– Republic of Kazakhstan\\n|<span style=\"display:none\">A</span> UN member state\\n|<span style=\"display:none\">A</span> None\\n{{extent}}\\n|-\\n|style=\"vertical-align:top;\"|<span id=\"Kenya\"></span>\\'\\'\\'{{flag|Kenya}}\\'\\'\\'&nbsp;– Republic of Kenya\\n|<span style=\"display:none\">A</span> UN member state\\n|<span style=\"display:none\">A</span> None\\n{{extent}}\\n|-\\n|style=\"vertical-align:top;\"|<span id=\"Kiribati\"></span>\\'\\'\\'{{flag|Kiribati}}\\'\\'\\'&nbsp;– Republic of Kiribati\\n|<span style=\"display:none\">A</span> UN member state\\n|<span style=\"display:none\">A</span> None\\n{{extent}}\\n|-\\n|style=\"vertical-align:top;\"|<span id=\"Korea North\"></span>\\'\\'\\'{{flag|Korea, North}}\\'\\'\\'&nbsp;– Democratic People\\'s Republic of Korea\\n|<span style=\"display:none\">A</span> UN member state\\n| style=\"background:LightCoral;\" |{{claimedby|SKOREA}}\\n{{extent}}North Korea is not recognised by three UN members: [[#France|France]], [[#Japan|Japan]] and [[#Korea South|South Korea]].{{efn|name=\"koreas\"|Both North Korea and South Korea claim to be the sole legitimate government of [[Korea]]. See also [[Foreign relations of North Korea]] and [[Foreign relations of South Korea]].<ref>{{cite web\\n | url = http://www.ioc.u-tokyo.ac.jp/~worldjpn/documents/texts/docs/19650622.T1E.html\\n | title = Treaty on Basic Relations between Japan and the Republic of Korea\\n | accessdate = 27 October 2008\\n}}</ref>}}\\n|-\\n|style=\"vertical-align:top;\"|<span id=\"Korea South\"></span>\\'\\'\\'{{flag|Korea, South}}\\'\\'\\'&nbsp;– Republic of Korea\\n|<span style=\"display:none\">A</span> UN member state\\n| style=\"background:LightCoral;\" |{{claimedby|NKOREA}}\\n{{extent}}South Korea has 1 autonomous region:{{efn|name=\"autonomous\"}}\\n* [[Jeju Island|Jejudo]]<ref>{{cite web|author=Keun Min|title=Greetings|publisher=Jeju Special Self-Governing Province|url=http://english.jeju.go.kr/contents/index.php?mid=02|accessdate = 10 November 2010}}</ref>\\nSouth Korea is not recognised by one UN member: [[#Korea North|North Korea]].{{efn|name=\"koreas\"}}\\n|-\\n|style=\"vertical-align:top;\"|<span style=\"display:none\">ZZZ</span>Kosovo → [[#Kosovo|Kosovo]]\\n|<span style=\"display:none\">A UN member state</span>\\n|<span style=\"display:none\">A None</span>\\n{{extent}}\\n|-\\n|style=\"vertical-align:top;\"|<span id=\"Kuwait\"></span>\\'\\'\\'{{flag|Kuwait}}\\'\\'\\'&nbsp;– State of Kuwait\\n|<span style=\"display:none\">A</span> UN member state\\n|<span style=\"display:none\">A</span> None\\n{{extent}}\\n|-\\n|style=\"vertical-align:top;\"|<span id=\"Kyrgyzstan\"></span>\\'\\'\\'{{flag|Kyrgyzstan}}\\'\\'\\'&nbsp;– Kyrgyz Republic\\n|<span style=\"display:none\">A</span> UN member state\\n|<span style=\"display:none\">A</span> None\\n{{extent}}\\n|-\\n|style=\"vertical-align:top;\"|<span id=\"Laos\"></span>\\'\\'\\'{{flag|Laos}}\\'\\'\\'&nbsp;– Lao People\\'s Democratic Republic\\n|<span style=\"display:none\">A</span> UN member state\\n|<span style=\"display:none\">A</span> None\\n{{extent}}\\n|-\\n|style=\"vertical-align:top;\"|<span id=\"Latvia\"></span>\\'\\'\\'{{flag|Latvia}}\\'\\'\\'&nbsp;– Republic of Latvia\\n|<span style=\"display:none\">A</span> UN member state\\n|<span style=\"display:none\">A</span> None\\n{{extent}}Member of the EU.{{efn|name=\"EU\"}}\\n|-\\n|style=\"vertical-align:top;\"|<span id=\"Lebanon\"></span>\\'\\'\\'{{flag|Lebanon}}\\'\\'\\'&nbsp;– Lebanese Republic\\n|<span style=\"display:none\">A</span> UN member state\\n|<span style=\"display:none\">A</span> None\\n{{extent}}\\n|-\\n|style=\"vertical-align:top;\"|<span id=\"Lesotho\"></span>\\'\\'\\'{{flag|Lesotho}}\\'\\'\\'&nbsp;– Kingdom of Lesotho\\n|<span style=\"display:none\">A</span> UN member state\\n|<span style=\"display:none\">A</span> None\\n{{extent}}\\n|-\\n|style=\"vertical-align:top;\"|<span id=\"Liberia\"></span>\\'\\'\\'{{flag|Liberia}}\\'\\'\\'&nbsp;– Republic of Liberia\\n|<span style=\"display:none\">A</span> UN member state\\n|<span style=\"display:none\">A</span> None\\n{{extent}}\\n|-\\n|style=\"vertical-align:top;\"|<span id=\"Libya\"></span>\\'\\'\\'{{flag|Libya}}\\'\\'\\'\\n|<span style=\"display:none\">A</span> UN member state\\n|<span style=\"display:none\">A</span> None\\n{{extent}}\\n|-\\n|style=\"vertical-align:top;\"|<span id=\"Liechtenstein\"></span>\\'\\'\\'{{flag|Liechtenstein}}\\'\\'\\'&nbsp;– Principality of Liechtenstein\\n|<span style=\"display:none\">A</span> UN member state\\n|<span style=\"display:none\">A</span> None\\n{{extent}}\\n|-\\n|style=\"vertical-align:top;\"|<span id=\"Lithuania\"></span>\\'\\'\\'{{flag|Lithuania}}\\'\\'\\'&nbsp;– Republic of Lithuania\\n|<span style=\"display:none\">A</span> UN member state\\n|<span style=\"display:none\">A</span> None\\n{{extent}}Member of the EU.{{efn|name=\"EU\"}}\\n|-\\n|style=\"vertical-align:top;\"|<span id=\"Luxembourg\"></span>\\'\\'\\'{{flag|Luxembourg}}\\'\\'\\'&nbsp;– Grand Duchy of Luxembourg\\n|<span style=\"display:none\">A</span> UN member state\\n|<span style=\"display:none\">A</span> None\\n{{extent}}Member of the EU.{{efn|name=\"EU\"}}\\n|-\\n|style=\"vertical-align:top;\"|<span id=\"Madagascar\"></span>\\'\\'\\'{{flag|Madagascar}}\\'\\'\\'&nbsp;– Republic of Madagascar\\n|<span style=\"display:none\">A</span> UN member state\\n|<span style=\"display:none\">A</span> None\\n{{extent}}\\n|-\\n|style=\"vertical-align:top;\"|<span id=\"Malawi\"></span>\\'\\'\\'{{flag|Malawi}}\\'\\'\\'&nbsp;– Republic of Malawi\\n|<span style=\"display:none\">A</span> UN member state\\n|<span style=\"display:none\">A</span> None\\n{{extent}}\\n|-\\n|style=\"vertical-align:top;\"|<span id=\"Malaysia\"></span>\\'\\'\\'{{flag|Malaysia}}\\'\\'\\'\\n|<span style=\"display:none\">A</span> UN member state\\n|<span style=\"display:none\">A</span> None\\n{{extent}}Malaysia is a [[federation]] of [[States of Malaysia|13 states and three federal territories]].\\n|-\\n|style=\"vertical-align:top;\"|<span id=\"Maldives\"></span>\\'\\'\\'{{flag|Maldives}}\\'\\'\\'&nbsp;– Republic of Maldives\\n|<span style=\"display:none\">A</span> UN member state\\n|<span style=\"display:none\">A</span> None\\n{{extent}}\\n|-\\n|style=\"vertical-align:top;\"|<span id=\"Mali\"></span>\\'\\'\\'{{flag|Mali}}\\'\\'\\'&nbsp;– Republic of Mali\\n|<span style=\"display:none\">A</span> UN member state\\n|<span style=\"display:none\">A</span> None\\n{{extent}}\\n|-\\n|style=\"vertical-align:top;\"|<span id=\"Malta\"></span>\\'\\'\\'{{flag|Malta}}\\'\\'\\'&nbsp;– Republic of Malta\\n|<span style=\"display:none\">A</span> UN member state\\n|<span style=\"display:none\">A</span> None\\n{{extent}}Member of the EU.{{efn|name=\"EU\"}}\\n|-\\n|style=\"vertical-align:top;\"|<span id=\"Marshall Islands\"></span>\\'\\'\\'{{flag|Marshall Islands}}\\'\\'\\'&nbsp;– Republic of the Marshall Islands\\n|<span style=\"display:none\">A</span> UN member state\\n|<span style=\"display:none\">A</span> None\\n{{extent}}Under [[Compact of Free Association]] with the [[#United States|United States]].\\n|-\\n|style=\"vertical-align:top;\"|<span id=\"Mauritania\"></span>\\'\\'\\'{{flag|Mauritania}}\\'\\'\\'&nbsp;– Islamic Republic of Mauritania\\n|<span style=\"display:none\">A</span> UN member state\\n|<span style=\"display:none\">A</span> None\\n{{extent}}\\n|-\\n|style=\"vertical-align:top;\"|<span id=\"Mauritius\"></span>\\'\\'\\'{{flag|Mauritius}}\\'\\'\\'&nbsp;– Republic of Mauritius\\n|<span style=\"display:none\">A</span> UN member state\\n|<span style=\"display:none\">A</span> None\\n{{extent}}Mauritius has an autonomous island, [[Rodrigues]].{{efn|name=\"autonomous\"}}\\n|-\\n|style=\"vertical-align:top;\"|<span id=\"Mexico\"></span>\\'\\'\\'{{flag|Mexico}}\\'\\'\\'&nbsp;– United Mexican States\\n|<span style=\"display:none\">A</span> UN member state\\n|<span style=\"display:none\">A</span> None\\n{{extent}}Mexico is a [[federation]] of [[Political divisions of Mexico|31 states and one autonomous city]].\\n|-\\n|style=\"vertical-align:top;\"|<span id=\"Micronesia\"></span>\\'\\'\\'{{flag|Micronesia}}\\'\\'\\'&nbsp;– Federated States of Micronesia\\n|<span style=\"display:none\">A</span> UN member state\\n|<span style=\"display:none\">A</span> None\\n{{extent}}Under [[Compact of Free Association]] with the [[#United States|United States]]. The Federated States of Micronesia is a [[federation]] of [[Administrative divisions of the Federated States of Micronesia|four states]].\\n|-\\n|style=\"vertical-align:top;\"|<span id=\"Moldova\"></span>\\'\\'\\'{{flag|Moldova}}\\'\\'\\'&nbsp;– Republic of Moldova\\n|<span style=\"display:none\">A</span> UN member state\\n|<span style=\"display:none\">A</span> None\\n{{extent}}Moldova has the autonomous regions of [[Gagauzia]] and [[#Transnistria|Transnistria]], the latter of which has established a de facto state.\\n|-\\n|style=\"vertical-align:top;\"|<span id=\"Monaco\"></span>\\'\\'\\'{{flag|Monaco}}\\'\\'\\'&nbsp;– Principality of Monaco\\n|<span style=\"display:none\">A</span> UN member state\\n|<span style=\"display:none\">A</span> None\\n{{extent}}\\n|-\\n|style=\"vertical-align:top;\"|<span id=\"Mongolia\"></span>\\'\\'\\'{{flag|Mongolia}}\\'\\'\\'\\n|<span style=\"display:none\">A</span> UN member state\\n|<span style=\"display:none\">A</span> None\\n{{extent}}\\n|-\\n|style=\"vertical-align:top;\"|<span id=\"Montenegro\"></span>\\'\\'\\'{{flag|Montenegro}}\\'\\'\\'\\n|<span style=\"display:none\">A</span> UN member state\\n|<span style=\"display:none\">A</span> None\\n{{extent}}\\n|-\\n|style=\"vertical-align:top;\"|<span id=\"Morocco\"></span>\\'\\'\\'{{flag|Morocco}}\\'\\'\\'&nbsp;– Kingdom of Morocco\\n|<span style=\"display:none\">A</span> UN member state\\n|<span style=\"display:none\">A</span> None\\n{{extent}}Morocco claims sovereignty over [[Western Sahara]] and controls most of it, which is disputed by the [[#SADR|Sahrawi Arab Democratic Republic]].\\n|-\\n|style=\"vertical-align:top;\"|<span id=\"Mozambique\"></span>\\'\\'\\'{{flag|Mozambique}}\\'\\'\\'&nbsp;– Republic of Mozambique\\n|<span style=\"display:none\">A</span> UN member state\\n|<span style=\"display:none\">A</span> None\\n{{extent}}\\n|-\\n|style=\"vertical-align:top;\"|<span id=\"Myanmar\"></span>\\'\\'\\'{{flag|Myanmar}}\\'\\'\\'&nbsp;– Republic of the Union of Myanmar{{efn|The government changed the state\\'s official name in English from \"Union of Myanmar\" to \"Republic of the Union of Myanmar\" in October 2010.<ref>{{Cite news|title=Myanmar gets new flag, official name, anthem|url=http://ca.reuters.com/article/topNews/idCATRE69K2HM20101021|agency=Reuters|date=21 October 2010|accessdate=22 October 2010}}</ref>}}\\n|<span style=\"display:none\">A</span> UN member state\\n|<span style=\"display:none\">A</span> None\\n{{extent}}\\n|-\\n|style=\"vertical-align:top;\"|<span style=\"display:none\">ZZZ</span>Nagorno-Karabakh → [[#Artsakh|Artsakh]]\\n|<span style=\"display:none\">A UN member state</span>\\n|<span style=\"display:none\">A None</span>\\n|\\n|-\\n|style=\"vertical-align:top;\"|<span id=\"Namibia\"></span>\\'\\'\\'{{flag|Namibia}}\\'\\'\\'&nbsp;– Republic of Namibia\\n|<span style=\"display:none\">A</span> UN member state\\n|<span style=\"display:none\">A</span> None\\n{{extent}}\\n|-\\n|style=\"vertical-align:top;\"|<span id=\"Nauru\"></span>\\'\\'\\'{{flag|Nauru}}\\'\\'\\'&nbsp;– Republic of Nauru\\n|<span style=\"display:none\">A</span> UN member state\\n|<span style=\"display:none\">A</span> None\\n{{extent}}\\n|-\\n|style=\"vertical-align:top;\"|<span id=\"Nepal\"></span>\\'\\'\\'{{flag|Nepal}}\\'\\'\\'&nbsp;– Federal Democratic Republic of Nepal\\n|<span style=\"display:none\">A</span> UN member state\\n|<span style=\"display:none\">A</span> None\\n{{extent}}Nepal is a [[federation]] composed of [[Zones of Nepal|14 zones]].\\n|-\\n|style=\"vertical-align:top;\"|<span id=\"Netherlands\"></span>\\'\\'\\'{{flagcountry|Netherlands}}\\'\\'\\'<!--Link to state instead of country-->&nbsp;– Kingdom of the Netherlands<!-- Note that the Netherlands is not the sovereign state, the Kingdom is—see [[Kingdom of the Netherlands#The distinction between the Netherlands and \"the Kingdom\"]]. -->\\n|<span style=\"display:none\">A</span> UN member state\\n|<span style=\"display:none\">A</span> None\\n{{extent}}Member of the EU.{{efn|name=\"EU\"}} The [[Kingdom of the Netherlands]] includes four areas with substantial autonomy:\\n\\n* {{flag|Aruba}}\\n* {{flag|Curaçao}}\\n* {{flag|Netherlands}}\\n* {{flag|Sint Maarten}}\\n\\nThe continental part of the Netherlands, Aruba, Curaçao, and Sint Maarten form the four constituent countries of the Kingdom. Three other territories ([[Bonaire]], [[Saba]], and [[Sint Eustatius]]) are [[Caribbean Netherlands|special municipalities]] of the continental Netherlands.\\n\\nThe designation \"Netherlands\" can refer either to the continental Netherlands or to the short name for the entire Kingdom (e.g. in international organizations). The Kingdom of the Netherlands as a whole is a member of the EU, but EU law applies only to parts within Europe.\\n|-\\n|style=\"vertical-align:top;\"|<span id=\"New Zealand\"></span>\\'\\'\\'{{flag|New Zealand}}\\'\\'\\'\\n|<span style=\"display:none\">A</span> UN member state\\n|<span style=\"display:none\">A</span> None\\n{{extent}}New Zealand is a [[Commonwealth realm]],{{efn|name=\"realm\"}} and has the dependent territories of:\\n\\n* {{noflag|[[Ross Dependency]]}}\\n* {{flag|Tokelau}}\\n\\nNew Zealand has responsibilities for (but no rights of control over) two freely [[associated state]]s:\\n\\n* {{flag|Cook Islands}}\\n* {{flag|Niue}}\\n\\nThe Cook Islands and Niue have diplomatic relations with {{Numrel|CK|alt2= |}} and {{Numrel|Niue|alt2= |}} UN members respectively.<ref>{{cite web\\n | author = Federal Foreign Office of Germany\\n | title = Beziehungen zu Deutschland\\n | publisher = Government of Germany\\n | date = November 2009\\n | url = http://www.auswaertiges-amt.de/diplo/de/Laenderinformationen/Cookinseln/Bilateral.html\\n | accessdate = 16 July 2010}} For more information, see [[Foreign relations of the Cook Islands]].</ref><ref>{{cite web\\n | author = China Internet Information Centre\\n | title = Full text of joint communique on the establishment of diplomatic relations between China and Niue\\n | agency = Xinhua News Agency\\n | date = 13 December 2007\\n | url = http://www.china.org.cn/english/international/235447.htm\\n | accessdate = 16 July 2010}}</ref><ref>{{cite web\\n |author=Republic of Nauru Permanent Mission to the United Nations\\n |work=Foreign Affairs\\n |publisher=United Nations\\n |url=http://www.un.int/nauru/foreignaffairs.html\\n |accessdate=16 July 2010\\n |url-status=dead\\n |archiveurl=https://web.archive.org/web/20141004083335/http://www.un.int/nauru/foreignaffairs.html\\n |archivedate=4 October 2014\\n}}</ref> They have full treaty-making capacity in the UN,<ref name=\"untreaty1\">{{cite web |url=http://untreaty.un.org/cod/repertory/art102/english/rep_supp8_vol6-art102_e_advance.pdf |title=Archived copy |accessdate=15 July 2011 |url-status=dead |archiveurl=https://web.archive.org/web/20120403031600/http://untreaty.un.org/cod/repertory/art102/english/rep_supp8_vol6-art102_e_advance.pdf |archivedate=3 April 2012 |df=mdy-all }}</ref> and are members of some [[List of specialized agencies of the United Nations|UN specialized agencies]].\\n|-\\n|style=\"vertical-align:top;\"|<span id=\"Nicaragua\"></span>\\'\\'\\'{{flag|Nicaragua}}\\'\\'\\'&nbsp;– Republic of Nicaragua\\n|<span style=\"display:none\">A</span> UN member state\\n|<span style=\"display:none\">A</span> None\\n{{extent}}Nicaragua contains two autonomous regions, [[Región Autónoma del Atlántico Sur|Atlántico Sur]] and [[Región Autónoma del Atlántico Norte|Atlántico Norte]].{{efn|name=\"autonomous\"}}\\n|-\\n|style=\"vertical-align:top;\"|<span id=\"Niger\"></span>\\'\\'\\'{{flag|Niger}}\\'\\'\\'&nbsp;– Republic of Niger\\n|<span style=\"display:none\">A</span> UN member state\\n|<span style=\"display:none\">A</span> None\\n{{extent}}\\n|-\\n|style=\"vertical-align:top;\"|<span id=\"Nigeria\"></span>\\'\\'\\'{{flag|Nigeria}}\\'\\'\\'&nbsp;– Federal Republic of Nigeria\\n|<span style=\"display:none\">A</span> UN member state\\n|<span style=\"display:none\">A</span> None\\n{{extent}}Nigeria is a [[federation]] of [[States of Nigeria|36 states and 1 federal territory]].\\n|-\\n|style=\"vertical-align:top;\"|<span style=\"display:none\">ZZZ</span>Niue → [[#Niue|Niue]]\\n|<span style=\"display:none\">A UN member state</span>\\n|<span style=\"display:none\">A None</span>\\n{{extent}}\\n|-\\n|style=\"vertical-align:top;\"|<span style=\"display:none\">ZZZ</span>Northern Cyprus → [[#Northern Cyprus|Northern Cyprus]]\\n|<span style=\"display:none\">A UN member state</span>\\n|<span style=\"display:none\">A None</span>\\n|\\n|-\\n|style=\"vertical-align:top;\"|North Korea → [[#Korea North|Korea, North]]\\n|<span style=\"display:none\">A UN member state</span>\\n|<span style=\"display:none\">A None</span>\\n|\\n|-\\n|style=\"vertical-align:top;\"|<span id=\"North Macedonia\"></span>\\'\\'\\'{{flag|MKD|name=North Macedonia}}\\'\\'\\'&nbsp;– Republic of North Macedonia\\n|<span style=\"display:none\">A</span> UN member state\\n|<span style=\"display:none\">A</span> None\\n|-\\n|style=\"vertical-align:top;\"|<span id=\"Norway\"></span>\\'\\'\\'{{flag|Norway}}\\'\\'\\'&nbsp;– Kingdom of Norway\\n|<span style=\"display:none\">A</span> UN member state\\n|<span style=\"display:none\">A</span> None\\n{{extent}}\\n\\n* [[Svalbard]] is an integral part of Norway, but has a special status due to the [[Svalbard Treaty]].\\n* [[Jan Mayen]] is an island that is an integral part of Norway, although [[Unincorporated area|unincorporated]].\\n\\nNorway has the dependent territories of:\\n\\n* [[Bouvet Island]]\\n* [[Peter I Island]]\\n* [[Queen Maud Land]]\\n|-\\n|style=\"vertical-align:top;\"|<span id=\"Oman\"></span>\\'\\'\\'{{flag|Oman}}\\'\\'\\'&nbsp;– Sultanate of Oman\\n|<span style=\"display:none\">A</span> UN member state\\n|<span style=\"display:none\">A</span> None\\n{{extent}}\\n|-\\n|style=\"vertical-align:top;\"|<span id=\"Pakistan\"></span>\\'\\'\\'{{flag|Pakistan}}\\'\\'\\'&nbsp;– Islamic Republic of Pakistan\\n|<span style=\"display:none\">A</span> UN member state\\n|<span style=\"display:none\">A</span> None\\n{{extent}}Pakistan is a [[federation]] of [[Subdivisions of Pakistan|four provinces, 1 capital territory, and tribal regions]]. Pakistan disputes the entire territory of [[Kashmir]] with [[India]], and part of it with the [[China|People\\'s Republic of China]]. It exercises control over [[Pakistan-administered Kashmir|certain portions]] of Kashmir, but has not officially annexed any of it,<ref>Constitution of Pakistan, Art. 1.</ref><ref>{{Cite news\\n | author = Aslam, Tasnim\\n | title = \\'Pakistan Does Not Claim Kashmir As An Integral Part...\\'\\n | url = http://www.outlookindia.com/article.aspx?233374\\n | newspaper = Outlook India\\n | publisher = The Outlook Group\\n | date = 11 December 2006\\n }}</ref> instead regarding it as a disputed territory.<ref>{{Cite book\\n | last = Williams\\n | first = Kristen P.\\n | title = Despite nationalist conflicts: theory and practice of maintaining world peace\\n | publisher = Greenwood Publishing Group\\n | year = 2001\\n | pages = 154–155\\n | url = https://books.google.com/?id=OYmurpH3ahsC\\n | isbn = 978-0-275-96934-9}}</ref><ref>{{Cite book\\n | last = Pruthi\\n | first = R.K.\\n | title = An Encyclopaedic Survey Of Global Terrorism In 21St Century\\n | publisher = Anmol Publications Pvt. Ltd.\\n | year = 2001\\n | pages = 120–121\\n | url = https://books.google.com/?id=C3yDkKDbZ3YC\\n | isbn = 978-81-261-1091-9}}</ref> The portions that it controls are divided into two territories, administered separately from Pakistan proper:{{efn|name=\"Kashmir\"|Sovereignty over [[Kashmir]] is disputed between [[#India|India]] and [[#Pakistan|Pakistan]]; smaller parts are disputed by the [[#China|People\\'s Republic of China]] and the [[#Taiwan|Republic of China]]. Kashmir is divided between India, Pakistan and the PRC. See the [[List of territorial disputes]].}}\\n\\n* {{flag|Azad Kashmir}}\\n* {{flag|Gilgit Baltistan}}\\n\\nAzad Kashmir describes itself as a \"self-governing state under Pakistani control\", while Gilgit-Baltistan is described in its governance order as a group of \"areas\" with self-government.<ref>{{cite web |url=http://home.ajk.gov.pk/index.php?option=com_content&view=article&id=72&catid=14 |title=Archived copy |accessdate=2014-07-28 |url-status=dead |archiveurl=https://web.archive.org/web/20140812174212/http://home.ajk.gov.pk/index.php?option=com_content&view=article&id=72&catid=14 |archivedate=12 August 2014 |df=dmy-all }}</ref><ref name=\"gbtribune.files.wordpress.com\">http://gbtribune.files.wordpress.com/2012/09/self-governance-order-2009.pdf</ref><ref name=\"AJ&KHistory\">{{cite web|url=http://www.ajk.gov.pk/history.php|title=AJ&K History|accessdate=6 January 2018}}</ref> These territories are not usually regarded as sovereign, as they do not fulfill the criteria set out by the declarative theory of statehood (for example, their current laws do not allow them to engage independently in relations with other states). Several state functions of these territories (such as foreign affairs and defence) are performed by Pakistan.<ref name=\"gbtribune.files.wordpress.com\"/><ref>{{cite book|url=https://books.google.com/?id=z-aRAwAAQBAJ&pg=PA1100&dq=azad+kashmir+gilgit+baltistan#v=onepage&q=azad%20kashmir%20gilgit%20baltistan&f=false|title=Political Handbook of the World 2014|publisher=|accessdate=5 October 2014|isbn=9781483333281|last1=Lansford|first1=Tom|date=2014-04-08}}</ref><ref>http://www.ajkassembly.gok.pk/AJK_Interim_Constitution_Act_1974.pdf</ref>\\n|-\\n|style=\"vertical-align:top;\"|<span id=\"Palau\"></span>\\'\\'\\'{{flag|Palau}}\\'\\'\\'&nbsp;– Republic of Palau\\n|<span style=\"display:none\">A</span> UN member state\\n|<span style=\"display:none\">A</span> None\\n{{extent}}Under [[Compact of Free Association]] with the [[#United States|United States]].\\n|-\\n|style=\"vertical-align:top;\"|<span id=\"Palestine\"></span>\\'\\'\\'{{flagcountry|State of Palestine}}\\'\\'\\'&nbsp;– State of Palestine\\n| style=\"background:LightSkyBlue;\" |<span style=\"display:none\">A</span> [[United Nations General Assembly observers|UN observer state]]; member of 1 [[List of specialized agencies of the United Nations|UN specialized agency]]\\n| style=\"background:LightCoral;\" | [[International recognition of the State of Palestine|Partially unrecognized]]. {{claimedby|ISRAEL}}\\n{{extent}}The declared State of Palestine has received diplomatic recognition from {{Numrec|Pal}} states.<ref>{{cite web|author=Palestine Liberation Organization|title=Road For Palestinian Statehood: Recognition and Admission|url=http://www.nad-plo.org/etemplate.php?id=5|publisher=Negotiations Affairs Department|accessdate=28 July 2011|url-status=dead|archiveurl=https://web.archive.org/web/20110818214013/http://www.nad-plo.org/etemplate.php?id=5|archivedate=18 August 2011|df=mdy-all}}</ref> The proclaimed state has no agreed territorial borders, or effective control on much of the territory that it proclaimed.<ref>See the following on statehood criteria:\\n* {{cite journal|author=Mendes, Errol|title=Statehood and Palestine for the purposes of Article 12 (3) of the ICC Statute|url=http://uclalawforum.com/media/background/gaza/2010-03-30_Mendes-Memo.pdf|pages=28, 33|date=30 March 2010|publisher=30 March 2010|accessdate=17 April 2011|postscript=:}} \"...the Palestinian State also meets the traditional criteria under the Montevideo Convention...\"; \"...the fact that a majority of states have recognised Palestine as a State should easily fulfill the requisite state practice\".\\n* {{cite journal|author=McKinney, Kathryn M.|title=The Legal Effects of the Israeli-PLO Declaration ofPrinciples: Steps Toward Statehood for Palestine|url=http://lawpublications.seattleu.edu/cgi/viewcontent.cgi?article=1438&context=sulr&sei-redir=1#search=%22palestine+%22constitutive+theory%22+statehood%22|journal=Seattle University Law Review|volume=18|issue=93|year=1994|page=97|publisher=Seattle University|accessdate=17 April 2011|postscript=:|url-status=dead|archiveurl=https://web.archive.org/web/20110722063030/http://lawpublications.seattleu.edu/cgi/viewcontent.cgi?article=1438&context=sulr&sei-redir=1#search=%22palestine+%22constitutive+theory%22+statehood%22|archivedate=22 July 2011|df=dmy-all}} \"It is possible, however, to argue for Palestinian statehood based on the constitutive theory\".\\n* {{cite journal|author=McDonald, Avril|title=Operation Cast Lead: Drawing the Battle Lines of the Legal Dispute|url=https://litigation-essentials.lexisnexis.com/webcd/app?action=DocumentDisplay&crawlid=1&doctype=cite&docid=16+Hum.+Rts.+Br.+25&srctype=smi&srcid=3B15&key=74ccae52ba220673512e7784449388f0|journal=Human Rights Brief|volume=25|date=Spring 2009|publisher=Washington College of Law, Center for Human Rights and Humanitarian Law|accessdate=17 April 2011|postscript=:}} \"Whether one applies the criteria of statehood set out in the Montevideo Convention or the more widely accepted constitutive theory of statehood, Palestine might be considered a state.\"</ref> The [[Palestinian National Authority]] is an interim administrative body formed as a result of the [[Oslo Accords]] that exercises limited autonomous jurisdiction within the [[Palestinian territories]]. In foreign relations, Palestine is represented by the [[Palestine Liberation Organization]].<ref name=\"unnms\"/> The State of Palestine is a member state of UNESCO,<ref>{{cite web|author=United Nations Educational, Scientific and Cultural Organization|title=Arab States: Palestine|url=http://www.unesco.org/new/en/unesco/worldwide/arab-states/palestine/|publisher=United Nations|accessdate=3 December 2011}}</ref> and an observer state in the UN.\\n|-\\n|style=\"vertical-align:top;\"|<span id=\"Panama\"></span>\\'\\'\\'{{flag|Panama}}\\'\\'\\'&nbsp;– Republic of Panama\\n|<span style=\"display:none\">A</span> UN member state\\n|<span style=\"display:none\">A</span> None\\n{{extent}}\\n|-\\n|style=\"vertical-align:top;\"|<span id=\"Papua New Guinea\"></span>\\'\\'\\'{{flag|Papua New Guinea}}\\'\\'\\'&nbsp;– Independent State of Papua New Guinea\\n|<span style=\"display:none\">A</span> UN member state\\n|<span style=\"display:none\">A</span> None\\n{{extent}}Papua New Guinea is a [[Commonwealth realm]]{{efn|name=\"realm\"}} with 1 autonomous region, [[Autonomous Region of Bougainville|Bougainville]].{{efn|name=\"autonomous\"}}\\n|-\\n|style=\"vertical-align:top;\"|<span id=\"Paraguay\"></span>\\'\\'\\'{{flag|Paraguay}}\\'\\'\\'&nbsp;– Republic of Paraguay\\n|<span style=\"display:none\">A</span> UN member state\\n|<span style=\"display:none\">A</span> None\\n{{extent}}Member of the UNASUL.{{efn|name=\"UNASUL\"}}\\n|-\\n|style=\"vertical-align:top;\"|<span id=\"Peru\"></span>\\'\\'\\'{{flag|Peru}}\\'\\'\\'&nbsp;– Republic of Peru\\n|<span style=\"display:none\">A</span> UN member state\\n|<span style=\"display:none\">A</span> None\\n{{extent}}Member of the UNASUL.{{efn|name=\"UNASUL\"}}\\n|-\\n|style=\"vertical-align:top;\"|<span id=\"Philippines\"></span>\\'\\'\\'{{flag|Philippines}}\\'\\'\\'&nbsp;– Republic of the Philippines\\n|<span style=\"display:none\">A</span> UN member state\\n|<span style=\"display:none\">A</span> None\\n{{extent}}The Philippines contains one autonomous region, [[Autonomous Region in Muslim Mindanao]].{{efn|name=\"autonomous\"}}\\n|-\\n|style=\"vertical-align:top;\"|<span id=\"Poland\"></span>\\'\\'\\'{{flag|Poland}}\\'\\'\\'&nbsp;– Republic of Poland\\n|<span style=\"display:none\">A</span> UN member state\\n|<span style=\"display:none\">A</span> None\\n{{extent}}Member of the EU.{{efn|name=\"EU\"}}\\n|-\\n|style=\"vertical-align:top;\"|<span id=\"Portugal\"></span>\\'\\'\\'{{flag|Portugal}}\\'\\'\\'&nbsp;– Portuguese Republic\\n|<span style=\"display:none\">A</span> UN member state\\n|<span style=\"display:none\">A</span> None\\n{{extent}}Member of the EU.{{efn|name=\"EU\"}} Portugal contains two autonomous regions, [[Azores]] and [[Madeira]].{{efn|name=\"autonomous\"}}\\n|-\\n|style=\"vertical-align:top;\"|Pridnestrovie → [[#Transnistria|Transnistria]]\\n|<span style=\"display:none\">A UN member state</span>\\n|<span style=\"display:none\">A None</span>\\n|\\n|-\\n|style=\"vertical-align:top;\"|<span id=\"Qatar\"></span>\\'\\'\\'{{flag|Qatar}}\\'\\'\\'&nbsp;– State of Qatar\\n|<span style=\"display:none\">A</span> UN member state\\n|<span style=\"display:none\">A</span> None\\n{{extent}}\\n|-\\n|style=\"vertical-align:top;\"|Republic of Korea → [[#Korea South|Korea, South]]\\n|<span style=\"display:none\">A UN member state</span>\\n|<span style=\"display:none\">A None</span>\\n|\\n|-\\n|style=\"vertical-align:top;\"|Republic of the Congo → [[#Congo, Republic of the|Congo, Republic of the]]\\n|<span style=\"display:none\">A UN member state</span>\\n|<span style=\"display:none\">A None</span>\\n|\\n|-\\n|style=\"vertical-align:top;\"|<span id=\"Romania\"></span>\\'\\'\\'{{flag|Romania}}\\'\\'\\'\\n|<span style=\"display:none\">A</span> UN member state\\n|<span style=\"display:none\">A</span> None\\n{{extent}}Member of the EU.{{efn|name=\"EU\"}}\\n|-\\n|style=\"vertical-align:top;\"|<span id=\"Russia\"></span>\\'\\'\\'{{flag|Russia}}\\'\\'\\'&nbsp;– Russian Federation\\n|<span style=\"display:none\">A</span> UN member state\\n|<span style=\"display:none\">A</span> None\\n{{extent}}Russia is officially a [[federation]] of 85&nbsp;[[federal subjects of Russia|federal subjects]] (republics, oblasts, krais, autonomous okrugs, federal cities, and an autonomous oblast). Several of the federal subjects are ethnic republics.{{efn|name=\"autonomous\"}} Russia also forms the [[Union State]] jointly with [[Belarus]].\\n|-\\n|style=\"vertical-align:top;\"|<span id=\"Rwanda\"></span>\\'\\'\\'{{flag|Rwanda}}\\'\\'\\'&nbsp;– Republic of Rwanda\\n|<span style=\"display:none\">A</span> UN member state\\n|<span style=\"display:none\">A</span> None\\n{{extent}}\\n|-\\n|style=\"vertical-align:top;\"|<span style=\"display:none\">ZZZ</span>Sahrawi Arab Democratic Republic → [[#SADR|Sahrawi Arab Democratic Republic]]\\n|<span style=\"display:none\">A UN member state</span>\\n|<span style=\"display:none\">A None</span>\\n|\\n|-\\n|style=\"vertical-align:top;\"|<span id=\"Saint Kitts and Nevis\"></span>\\'\\'\\'{{flag|Saint Kitts and Nevis}}\\'\\'\\'&nbsp;– Federation of Saint Christopher and Nevis\\n|<span style=\"display:none\">A</span> UN member state\\n|<span style=\"display:none\">A</span> None\\n{{extent}}Saint Kitts and Nevis is a [[Commonwealth realm]]{{efn|name=\"realm\"}} and is a [[federation]]{{efn|name=\"federal\"}} of two islands, [[St. Kitts]] and [[Nevis]].\\n|-\\n|style=\"vertical-align:top;\"|<span id=\"Saint Lucia\"></span>\\'\\'\\'{{flag|Saint Lucia}}\\'\\'\\'\\n|<span style=\"display:none\">A</span> UN member state\\n|<span style=\"display:none\">A</span> None\\n{{extent}}Saint Lucia is a [[Commonwealth realm]].{{efn|name=\"realm\"}}\\n|-\\n|style=\"vertical-align:top;\"|<span id=\"Saint Vincent and the Grenadines\"></span>\\'\\'\\'{{flag|Saint Vincent and the Grenadines}}\\'\\'\\'\\n|<span style=\"display:none\">A</span> UN member state\\n|<span style=\"display:none\">A</span> None\\n{{extent}}Saint Vincent and the Grenadines is a [[Commonwealth realm]].{{efn|name=\"realm\"}}\\n|-\\n|style=\"vertical-align:top;\"|<span id=\"Samoa\"></span>\\'\\'\\'{{flag|Samoa}}\\'\\'\\'&nbsp;– Independent State of Samoa\\n|<span style=\"display:none\">A</span> UN member state\\n|<span style=\"display:none\">A</span> None\\n{{extent}}\\n|-\\n|style=\"vertical-align:top;\"|<span id=\"San Marino\"></span>\\'\\'\\'{{flag|San Marino}}\\'\\'\\'&nbsp;– Republic of San Marino\\n|<span style=\"display:none\">A</span> UN member state\\n|<span style=\"display:none\">A</span> None\\n{{extent}}\\n|-\\n|style=\"vertical-align:top;\"|<span id=\"São Tomé and Príncipe\"></span>\\'\\'\\'{{flag|São Tomé and Príncipe}}\\'\\'\\'&nbsp;– Democratic Republic of São Tomé and Príncipe\\n|<span style=\"display:none\">A</span> UN member state\\n|<span style=\"display:none\">A</span> None\\n{{extent}}São Tomé and Príncipe contains 1 autonomous province, [[Príncipe]].{{efn|name=\"autonomous\"}}\\n|-\\n|style=\"vertical-align:top;\"|<span id=\"Saudi Arabia\"></span>\\'\\'\\'{{flag|Saudi Arabia}}\\'\\'\\'&nbsp;– Kingdom of Saudi Arabia\\n|<span style=\"display:none\">A</span> UN member state\\n|<span style=\"display:none\">A</span> None\\n{{extent}}\\n<!--Sealand is not a sovereign state according to the definition in the introduction of this article and should not be included-->\\n<!--Scotland is not a sovereign state according to the definition in the introduction of this article and should not be included-->\\n|-\\n|style=\"vertical-align:top;\"|<span id=\"Senegal\"></span>\\'\\'\\'{{flag|Senegal}}\\'\\'\\'&nbsp;– Republic of Senegal\\n|<span style=\"display:none\">A</span> UN member state\\n|<span style=\"display:none\">A</span> None\\n{{extent}}\\n|-\\n|style=\"vertical-align:top;\"|<span id=\"Serbia\"></span>\\'\\'\\'{{flag|Serbia}}\\'\\'\\'&nbsp;– Republic of Serbia\\n|<span style=\"display:none\">A</span> UN member state\\n|<span style=\"display:none\">A</span> None\\n{{extent}}Serbia contains two autonomous regions, [[Vojvodina]] and [[Kosovo and Metohija]].{{efn|name=\"autonomous\"}} The latter is under the de facto control of the [[#Kosovo|Republic of Kosovo]].\\n|-\\n|style=\"vertical-align:top;\"|<span id=\"Seychelles\"></span>\\'\\'\\'{{flag|Seychelles}}\\'\\'\\'&nbsp;– Republic of Seychelles\\n|<span style=\"display:none\">A</span> UN member state\\n|<span style=\"display:none\">A</span> None\\n{{extent}}\\n|-\\n|style=\"vertical-align:top;\"|<span id=\"Sierra Leone\"></span>\\'\\'\\'{{flag|Sierra Leone}}\\'\\'\\'&nbsp;– Republic of Sierra Leone\\n|<span style=\"display:none\">A</span> UN member state\\n|<span style=\"display:none\">A</span> None\\n{{extent}}\\n|-\\n|style=\"vertical-align:top;\"|<span id=\"Singapore\"></span>\\'\\'\\'{{flag|Singapore}}\\'\\'\\'&nbsp;– Republic of Singapore\\n|<span style=\"display:none\">A</span> UN member state\\n|<span style=\"display:none\">A</span> None\\n{{extent}}\\n|-\\n|style=\"vertical-align:top;\"|<span id=\"Slovakia\"></span>\\'\\'\\'{{flag|Slovakia}}\\'\\'\\'&nbsp;– Slovak Republic\\n|<span style=\"display:none\">A</span> UN member state\\n|<span style=\"display:none\">A</span> None\\n{{extent}}Member of the EU.{{efn|name=\"EU\"}}\\n|-\\n|style=\"vertical-align:top;\"|<span id=\"Slovenia\"></span>\\'\\'\\'{{flag|Slovenia}}\\'\\'\\'&nbsp;– Republic of Slovenia\\n|<span style=\"display:none\">A</span> UN member state\\n|<span style=\"display:none\">A</span> None\\n{{extent}}Member of the EU.{{efn|name=\"EU\"}}\\n|-\\n|style=\"vertical-align:top;\"|<span id=\"Solomon Islands\"></span>\\'\\'\\'{{flag|Solomon Islands}}\\'\\'\\'\\n|<span style=\"display:none\">A</span> UN member state\\n|<span style=\"display:none\">A</span> None\\n{{extent}}The Solomon Islands is a [[Commonwealth realm]].{{efn|name=\"realm\"}}\\n|-\\n|style=\"vertical-align:top;\"|<span id=\"Somalia\"></span>\\'\\'\\'{{flag|Somalia}}\\'\\'\\'&nbsp;– Federal Republic of Somalia\\n|<span style=\"display:none\">A</span> UN member state\\n|<span style=\"display:none\">A</span> None\\n{{extent}}Somalia has two self-declared autonomous regions: [[Puntland]] and [[Galmudug]], while the territory of [[#Somaliland|Somaliland]] has formed an unrecognised de facto state.\\n|-\\n|style=\"vertical-align:top;\"|<span style=\"display:none\">ZZZ</span>Somaliland → [[#Somaliland|Somaliland]]\\n|<span style=\"display:none\">A UN member state</span>\\n|<span style=\"display:none\">A None</span>\\n|\\n|-\\n|style=\"vertical-align:top;\"|<span id=\"South Africa\"></span>\\'\\'\\'{{flag|South Africa}}\\'\\'\\'&nbsp;– Republic of South Africa\\n|<span style=\"display:none\">A</span> UN member state\\n|<span style=\"display:none\">A</span> None\\n{{extent}}\\n|-\\n|style=\"vertical-align:top;\"|South Korea → [[#Korea South|Korea, South]]\\n|<span style=\"display:none\">A UN member state</span>\\n|<span style=\"display:none\">A None</span>\\n|\\n|-\\n|style=\"vertical-align:top;\"|<span style=\"display:none\">ZZZ</span>South Ossetia → [[#South Ossetia|South Ossetia]]\\n|<span style=\"display:none\">A UN member state</span>\\n|<span style=\"display:none\">A None</span>\\n|\\n|-\\n|style=\"vertical-align:top;\"|<span id=\"South Sudan\"></span>\\'\\'\\'{{flag|South Sudan}}\\'\\'\\'&nbsp;– Republic of South Sudan\\n|<span style=\"display:none\">A</span> UN member state\\n|<span style=\"display:none\">A</span> None\\n{{extent}}South Sudan is a [[federation]] of [[States of South Sudan|28 states]].\\n* The [[Abyei Area]] is a zone with \"special administrative status\" established by the [[Comprehensive Peace Agreement]] in 2005. It is \\'\\'de-jure\\'\\' a condominium of South Sudan and Sudan, but \\'\\'de facto\\'\\' administered by South Sudan.<ref name=UNISFA2017>{{cite web|url=https://unisfa.unmissions.org/statement-unisfa-recent-spate-attacks-abyei|title=Statement from UNISFA on the recent spate of attacks in Abyei|website=UNmissions.org|date=18 October 2017|accessdate=12 February 2018}}</ref><ref name=AbyeiName>{{cite web|url=http://www.gurtong.net/ECM/Editorial/tabid/124/ctl/ArticleView/mid/519/articleId/17103/Abyei-Administration-Area-Changes-Name.aspx|title=Abyei Administration Area Changes Name|website=Gurtong.net|date=29 July 2015|accessdate=12 February 2018}}</ref>\\n|-\\n|style=\"vertical-align:top;\"|<span id=\"Spain\"></span>\\'\\'\\'{{flag|Spain}}\\'\\'\\'&nbsp;– Kingdom of Spain\\n|<span style=\"display:none\">A</span> UN member state\\n|<span style=\"display:none\">A</span> None\\n{{extent}}Member of the EU.{{efn|name=\"EU\"}} Spain is divided into [[Autonomous communities of Spain|17 autonomous communities and 2 special autonomous cities]].{{efn|name=\"autonomous\"}}\\n|-\\n|style=\"vertical-align:top;\"|<span id=\"Sri Lanka\"></span>\\'\\'\\'{{flag|Sri Lanka}}\\'\\'\\'&nbsp;– Democratic Socialist Republic of Sri Lanka{{efn|Formerly known as [[Dominion of Ceylon|Ceylon]] until 1972.}}\\n|<span style=\"display:none\">A</span> UN member state\\n|<span style=\"display:none\">A</span> None\\n{{extent}}\\n|-\\n|style=\"vertical-align:top;\"|<span id=\"Sudan\"></span>\\'\\'\\'{{flag|Sudan}}\\'\\'\\'&nbsp;– Republic of the Sudan\\n|<span style=\"display:none\">A</span> UN member state\\n|<span style=\"display:none\">A</span> None\\n{{extent}}Sudan is a [[federation]] of [[States of Sudan|18 states]]. Sudan claims the [[Abyei Area]], which is currently under UN protection and governed by South Sudan.<ref name=UNISFA2017/><ref name=AbyeiName/>\\n|-\\n|style=\"vertical-align:top;\"|<span style=\"display:none\">ZZZ</span>Sudan, South → [[#South Sudan|South Sudan]]\\n|<span style=\"display:none\">A UN member state</span>\\n|<span style=\"display:none\">A None</span>\\n|\\n|-\\n|style=\"vertical-align:top;\"|<span id=\"Suriname\"></span>\\'\\'\\'{{flag|Suriname}}\\'\\'\\'&nbsp;– Republic of Suriname\\n|<span style=\"display:none\">A</span> UN member state\\n|<span style=\"display:none\">A</span> None\\n{{extent}}Member of the UNASUL.{{efn|name=\"UNASUL\"}}\\n|-\\n|style=\"vertical-align:top;\"|<span id=\"Swaziland\"></span>\\'\\'\\'{{flag|Swaziland}}\\'\\'\\'&nbsp;– Kingdom of Eswatini\\n|<span style=\"display:none\">A</span> UN member state\\n|<span style=\"display:none\">A</span> None\\n{{extent}}\\n|-\\n|style=\"vertical-align:top;\"|<span id=\"Sweden\"></span>\\'\\'\\'{{flag|Sweden}}\\'\\'\\'&nbsp;– Kingdom of Sweden\\n|<span style=\"display:none\">A</span> UN member state\\n|<span style=\"display:none\">A</span> None\\n{{extent}}Member of the EU.{{efn|name=\"EU\"}}\\n|-\\n|style=\"vertical-align:top;\"|<span id=\"Switzerland\"></span>\\'\\'\\'{{flag|Switzerland}}\\'\\'\\'&nbsp;– Swiss Confederation\\n|<span style=\"display:none\">A</span> UN member state\\n|<span style=\"display:none\">A</span> None\\n{{extent}}Switzerland is a [[federation]] of [[Cantons of Switzerland|26 cantons]].\\n|-\\n|style=\"vertical-align:top;\"|<span id=\"Syria\"></span>\\'\\'\\'{{flag|Syria}}\\'\\'\\'&nbsp;– Syrian Arab Republic\\n|<span style=\"display:none\">A</span> UN member state\\n|<span style=\"display:none\">A</span> None\\n{{extent}}The [[National Coalition for Syrian Revolutionary and Opposition Forces|Syrian National Coalition]], which is [[International recognition of the Syrian National Coalition|recognized]] as the legitimate representative of the Syrian people by 20 UN members, has established an [[Syrian Interim Government|interim government]] to rule rebel controlled territory during the [[Syrian civil war]].\\nSyria has one self-declared autonomous region: [[Rojava]].\\n|-\\n|style=\"vertical-align:top;\"|<span style=\"display:none\">ZZZ</span>Taiwan (Republic of China) → [[#Taiwan|Taiwan]]\\n|<span style=\"display:none\">A UN member state</span>\\n|<span style=\"display:none\">A None</span>\\n|\\n|-\\n|style=\"vertical-align:top;\"|<span id=\"Tajikistan\"></span>\\'\\'\\'{{flag|Tajikistan}}\\'\\'\\'&nbsp;– Republic of Tajikistan\\n|<span style=\"display:none\">A</span> UN member state\\n|<span style=\"display:none\">A</span> None\\n{{extent}}Tajikistan contains 1 autonomous region, [[Gorno-Badakhshan Autonomous Province]].{{efn|name=\"autonomous\"}}\\n|-\\n|style=\"vertical-align:top;\"|<span id=\"Tanzania\"></span>\\'\\'\\'{{flag|Tanzania}}\\'\\'\\'&nbsp;– United Republic of Tanzania\\n|<span style=\"display:none\">A</span> UN member state\\n|<span style=\"display:none\">A</span> None\\n{{extent}}Tanzania contains 1 autonomous region, [[Zanzibar]].{{efn|name=\"autonomous\"}}\\n|-\\n|style=\"vertical-align:top;\"|<span id=\"Thailand\"></span>\\'\\'\\'{{flag|Thailand}}\\'\\'\\'&nbsp;– Kingdom of Thailand\\n|<span style=\"display:none\">A</span> UN member state\\n|<span style=\"display:none\">A</span> None\\n{{extent}}\\n|-\\n|style=\"vertical-align:top;\"|The Bahamas → [[#Bahamas, The|Bahamas, The]]\\n|<span style=\"display:none\">A UN member state</span>\\n|<span style=\"display:none\">A None</span>\\n|\\n|-\\n|style=\"vertical-align:top;\"|The Gambia → [[#Gambia, The|Gambia, The]]\\n|<span style=\"display:none\">A UN member state</span>\\n|<span style=\"display:none\">A None</span>\\n|\\n|-\\n|style=\"vertical-align:top;\"|Timor-Leste → [[#East Timor|East Timor]]\\n|<span style=\"display:none\">A UN member state</span>\\n|<span style=\"display:none\">A None</span>\\n|\\n|-\\n|style=\"vertical-align:top;\"|<span id=\"Togo\"></span>\\'\\'\\'{{flag|Togo}}\\'\\'\\'&nbsp;– Togolese Republic\\n|<span style=\"display:none\">A</span> UN member state\\n|<span style=\"display:none\">A</span> None\\n{{extent}}\\n|-\\n|style=\"vertical-align:top;\"|<span id=\"Tonga\"></span>\\'\\'\\'{{flag|Tonga}}\\'\\'\\'&nbsp;– Kingdom of Tonga\\n|<span style=\"display:none\">A</span> UN member state\\n|<span style=\"display:none\">A</span> None\\n{{extent}}\\n|-\\n|style=\"vertical-align:top;\"|<span style=\"display:none\">ZZZ</span>Transnistria → [[#Transnistria|Transnistria]]\\n|<span style=\"display:none\">A UN member state</span>\\n|<span style=\"display:none\">A None</span>\\n|\\n|-\\n|style=\"vertical-align:top;\"|<span id=\"Trinidad and Tobago\"></span>\\'\\'\\'{{flag|Trinidad and Tobago}}\\'\\'\\'&nbsp;– Republic of Trinidad and Tobago\\n|<span style=\"display:none\">A</span> UN member state\\n|<span style=\"display:none\">A</span> None\\n{{extent}}Trinidad and Tobago contains 1 autonomous region, [[Tobago]].{{efn|name=\"autonomous\"}}\\n|-\\n|style=\"vertical-align:top;\"|<span id=\"Tunisia\"></span>\\'\\'\\'{{flag|Tunisia}}\\'\\'\\'&nbsp;– Tunisian Republic\\n|<span style=\"display:none\">A</span> UN member state\\n|<span style=\"display:none\">A</span> None\\n{{extent}}\\n|-\\n|style=\"vertical-align:top;\"|<span id=\"Turkey\"></span>\\'\\'\\'{{flag|Turkey}}\\'\\'\\'&nbsp;– Republic of Turkey\\n|<span style=\"display:none\">A</span> UN member state\\n|<span style=\"display:none\">A</span> None\\n{{extent}}\\n|-\\n|style=\"vertical-align:top;\"|<span id=\"Turkmenistan\"></span>\\'\\'\\'{{flag|Turkmenistan}}\\'\\'\\'\\n|<span style=\"display:none\">A</span> UN member state\\n|<span style=\"display:none\">A</span> None\\n{{extent}}\\n|-\\n|style=\"vertical-align:top;\"|<span id=\"Tuvalu\"></span>\\'\\'\\'{{flag|Tuvalu}}\\'\\'\\'\\n|<span style=\"display:none\">A</span> UN member state\\n|<span style=\"display:none\">A</span> None\\n{{extent}}Tuvalu is a [[Commonwealth realm]].{{efn|name=\"realm\"}}\\n|-\\n|style=\"vertical-align:top;\"|<span id=\"Uganda\"></span>\\'\\'\\'{{flag|Uganda}}\\'\\'\\'&nbsp;– Republic of Uganda\\n|<span style=\"display:none\">A</span> UN member state\\n|<span style=\"display:none\">A</span> None\\n{{extent}}\\n|-\\n|style=\"vertical-align:top;\"|<span id=\"Ukraine\"></span>\\'\\'\\'{{flag|Ukraine}}\\'\\'\\'\\n|<span style=\"display:none\">A</span> UN member state\\n|<span style=\"display:none\">A</span> None\\n{{extent}}Ukraine contains an [[territorial autonomy|autonomous republic]], [[Autonomous Republic of Crimea|Crimea]]. In 2014 Russia annexed the region along with [[Sevastopol]] turning them in one of its federal subjects as [[Republic of Crimea]] and city of Sevastopol.\\n|-\\n|style=\"vertical-align:top;\"|<span id=\"United Arab Emirates\"></span>\\'\\'\\'{{flag|United Arab Emirates}}\\'\\'\\'\\n|<span style=\"display:none\">A</span> UN member state\\n|<span style=\"display:none\">A</span> None\\n{{extent}}The United Arab Emirates is a [[federation]] of [[Emirates of the United Arab Emirates|seven emirates]].\\n|-\\n|style=\"vertical-align:top;\"|<span id=\"United Kingdom\"></span>\\'\\'\\'{{flag|United Kingdom}}\\'\\'\\'&nbsp;– United Kingdom of Great Britain and Northern Ireland\\n|<span style=\"display:none\">A</span> UN member state\\n|<span style=\"display:none\">A</span> None\\n|{{efn|name=\"EU\"}} The United Kingdom is a [[Commonwealth realm]]{{efn|name=\"realm\"}} consisting of  [[Countries of the United Kingdom|four constituent countries]]: [[England]], [[Northern Ireland]], [[Scotland]], and [[Wales]]. The United Kingdom has the following overseas territories:\\n\\n*{{noflag|[[Akrotiri and Dhekelia]]}}\\n*{{flag|Anguilla}}\\n*{{flag|Bermuda}}\\n*{{flag|British Indian Ocean Territory}}\\n*{{flag|British Virgin Islands}}\\n*{{flag|Cayman Islands}}\\n*{{flag|Falkland Islands}}\\n*{{flag|Gibraltar}}\\n*{{flag|Montserrat}}\\n*{{flag|Pitcairn Islands}}\\n*{{noflag|[[Saint Helena, Ascension and Tristan da Cunha]]}}\\n*{{flag|South Georgia and the South Sandwich Islands}}\\n*{{flag|Turks and Caicos Islands}}\\n*{{flag|British Antarctic Territory}}\\n\\nThe British monarch has direct sovereignty over three self-governing [[Crown dependencies]]:\\n\\n*{{flag|Bailiwick of Guernsey}}\\n*{{flag|Isle of Man}}\\n*{{flag|Bailiwick of Jersey}}\\n|-\\n|style=\"vertical-align:top;\"|<span id=\"United States\"></span>\\'\\'\\'{{flag|United States}}\\'\\'\\'&nbsp;– United States of America\\n|<span style=\"display:none\">A</span> UN member state\\n|<span style=\"display:none\">A</span> None\\n{{extent}}The United States is a [[federation]] of [[Political divisions of the United States|50 states and 1 federal district]] with [[shared sovereignty]]. The [[Federal government of the United States]] has sovereignty over the following inhabited possessions and commonwealths:\\n\\n* {{flag|American Samoa}}\\n* {{flag|Guam}}\\n* {{flag|Northern Mariana Islands}}\\n* {{flag|Puerto Rico}}\\n* {{flag|U.S. Virgin Islands}}\\n\\nIt also has sovereignty over several uninhabited territories:\\n\\n* [[Baker Island]]\\n* [[Howland Island]]\\n* [[Jarvis Island]]\\n* [[Johnston Atoll]]\\n* [[Kingman Reef]]\\n* [[Midway Atoll]]\\n* [[Navassa Island]]\\n* [[Wake Island]]\\n\\nIt also has sovereignty over the following incorporated territories:\\n\\n* [[Palmyra Atoll]]\\n\\nThree sovereign states have become [[associated state]]s of the United States under the [[Compact of Free Association]]:\\n\\n* {{flag|Marshall Islands}}&nbsp;– Republic of the Marshall Islands\\n* {{flag|Micronesia}}&nbsp;– Federated States of Micronesia\\n* {{flag|Palau}}&nbsp;– Republic of Palau\\n\\nIt also disputes sovereignty over the following territories:\\n\\n* [[Bajo Nuevo Bank]]\\n* [[Serranilla Bank]]\\n|-\\n|style=\"vertical-align:top;\"|<span id=\"Uruguay\"></span>\\'\\'\\'{{flag|Uruguay}}\\'\\'\\'&nbsp;– Oriental Republic of Uruguay\\n|<span style=\"display:none\">A</span> UN member state\\n|<span style=\"display:none\">A</span> None\\n{{extent}}Member of the UNASUL.{{efn|name=\"UNASUL\"}}\\n|-\\n|style=\"vertical-align:top;\"|<span id=\"Uzbekistan\"></span>\\'\\'\\'{{flag|Uzbekistan}}\\'\\'\\'&nbsp;– Republic of Uzbekistan\\n|<span style=\"display:none\">A</span> UN member state\\n|<span style=\"display:none\">A</span> None\\n{{extent}}Uzbekistan contains 1 autonomous region, [[Karakalpakstan]].{{efn|name=\"autonomous\"}}\\n|-\\n|style=\"vertical-align:top;\"|<span id=\"Vanuatu\"></span>\\'\\'\\'{{flag|Vanuatu}}\\'\\'\\'&nbsp;– Republic of Vanuatu\\n|<span style=\"display:none\">A</span> UN member state\\n|<span style=\"display:none\">A</span> None\\n{{extent}}\\n|-\\n|style=\"vertical-align:top;\"|<span id=\"Vatican City\"></span>\\'\\'\\'{{flag|Vatican City}}\\'\\'\\'&nbsp;– Vatican City State\\n| style=\"background:LightSkyBlue;\" |<span style=\"display:none\">A</span> [[United Nations General Assembly observers|UN observer state]] under the designation of \"[[Holy See]]\"; member of three [[list of specialized agencies of the United Nations|UN specialized agencies]] and the [[International Atomic Energy Agency|IAEA]]\\n|<span style=\"display:none\">A</span> None\\n{{extent}}Administered by the [[Holy See]], a sovereign entity with diplomatic ties to {{Numrec|Holy See|N=3||states}} – 180 UN member states, one UN observer state (Palestine), the Cook Islands and the Republic of China (Taiwan).<ref>{{cite web|url=http://www.vatican.va/roman_curia/secretariat_state/documents/rc_seg-st_20010123_holy-see-relations_en.html|title=Bilateral relations of the Holy See|publisher=Holy See website|accessdate=5 June 2012}}</ref> The Holy See is a member of the [[International Atomic Energy Agency|IAEA]], [[International Telecommunication Union|ITU]], [[Universal Postal Union|UPU]], and [[World Intellectual Property Organization|WIPO]] and a permanent observer of the UN (in the category of \"Non-member State\")<ref name=\"unnms\">{{cite web|title=Non-member States and Entities |url=https://www.un.org/en/members/nonmembers.shtml |publisher=United Nations |accessdate=30 August 2010 |date=29 February 2008 |url-status=dead |archiveurl=https://web.archive.org/web/20090509204646/http://www.un.org/en/members/nonmembers.shtml |archivedate=9 May 2009 }}</ref> and [[Foreign relations of the Holy See#Participation in international organizations|multiple other UN System organizations]]. The Vatican City is governed by officials appointed by the [[Pope]], who is the Bishop of the Diocese of Rome and \\'\\'[[ex officio]]\\'\\' sovereign of Vatican City.\\n|-\\n|style=\"vertical-align:top;\"|<span id=\"Venezuela\"></span>\\'\\'\\'{{flag|Venezuela}}\\'\\'\\'&nbsp;– Bolivarian Republic of Venezuela\\n|<span style=\"display:none\">A</span> UN member state\\n|<span style=\"display:none\">A</span> None\\n{{extent}}Member of the UNASUL.{{efn|name=\"UNASUL\"}} Venezuela is a [[federation]] of [[States of Venezuela|23 states, 1 capital district, and federal dependencies]].\\n|-\\n|style=\"vertical-align:top;\"|<span id=\"Vietnam\"></span>\\'\\'\\'{{flag|Vietnam}}\\'\\'\\'&nbsp;– Socialist Republic of Vietnam\\n|<span style=\"display:none\">A</span> UN member state\\n|<span style=\"display:none\">A</span> None\\n{{extent}}\\n|-\\n|style=\"vertical-align:top;\"|<span id=\"Yemen\"></span>\\'\\'\\'{{flag|Yemen}}\\'\\'\\'&nbsp;– Republic of Yemen\\n|<span style=\"display:none\">A</span> UN member state\\n|<span style=\"display:none\">A</span> None\\n{{extent}}\\n|-\\n|style=\"vertical-align:top;\"|<span id=\"Zambia\"></span>\\'\\'\\'{{flag|Zambia}}\\'\\'\\'&nbsp;– Republic of Zambia\\n|<span style=\"display:none\">A</span> UN member state\\n|<span style=\"display:none\">A</span> None\\n{{extent}}\\n|-\\n|style=\"vertical-align:top;\"|<span id=\"Zimbabwe\"></span>\\'\\'\\'{{flag|Zimbabwe}}\\'\\'\\'&nbsp;– Republic of Zimbabwe\\n|<span style=\"display:none\">A</span> UN member state\\n|<span style=\"display:none\">A</span> None\\n{{extent}}\\n|- style=\"background:Lightgrey;\"\\n|style=\"text-align:center;\"|<span style=\"display:none\">ZZZ</span>↑ [[Member states of the United Nations|UN member states]] and [[United Nations General Assembly observers|observer states]] ↑\\n|<span style=\"display:none\">A ZZZ</span>\\n|<span style=\"display:none\">ZZZ</span>\\n|\\n|- style=\"background:Darkgrey;\"\\n|style=\"text-align:center;\"|<span style=\"display:none\">ZZZ</span>\\n|<span style=\"display:none\">AB</span>\\n|<span style=\"display:none\">B</span>\\n|\\n|- style=\"background:Lightgrey;\"\\n|style=\"text-align:center;\"|<span style=\"display:none\">ZZZ</span>↓ Other states ↓\\n|<span style=\"display:none\">D AAA</span>\\n|<span style=\"display:none\">ZZZ</span>\\n|{{Anchor|Other states}}\\n|-\\n|style=\"vertical-align:top;\"|<span id=\"Abkhazia\"></span>\\'\\'\\'{{flag|Abkhazia}}\\'\\'\\'&nbsp;– Republic of Abkhazia\\n| style=\"background:LemonChiffon;\" |<span style=\"display:none\">D</span> No membership\\n| style=\"background:LightCoral;\" |{{claimedby|GEORGIA}}\\n{{extent}}[[International recognition of Abkhazia and South Ossetia|Recognised by]] Russia, Nauru, Nicaragua, Venezuela, Artsakh, South Ossetia and Transnistria.<ref name=ASOTREC>{{cite web|url=http://www.newsru.com/russia/17nov2006/aup.html|date=17 November 2006|accessdate=5 June 2011|script-title=ru:Абхазия, Южная Осетия и Приднестровье признали независимость друг друга и призвали всех к этому же|publisher=newsru.com|language=Russian}}</ref> Claimed in whole by [[#Georgia|Georgia]] as the [[Government of the Autonomous Republic of Abkhazia|Autonomous Republic of Abkhazia]].\\n|-\\n|style=\"vertical-align:top;\"|<span id=\"Artsakh\"></span>\\'\\'\\'{{flag|Artsakh}}\\'\\'\\'&nbsp;– Republic of Artsakh\\n| style=\"background:LemonChiffon;\" |<span style=\"display:none\">D</span> No membership\\n| style=\"background:LightCoral;\" |{{claimedby|AZERBAIJAN}}\\n{{extent}}A de facto independent state,<ref name=montevideo/><ref>{{Cite book|author=Krüger, Heiko|title=The Nagorno-Karabakh Conflict: A Legal Analysis|url=https://books.google.com/books?id=7JDCQu-Us8sC&lpg=PP1&pg=PA55#v=onepage&q&f=false|page=55|publisher=Springer|year=2010|isbn=978-3-642-11787-9}}</ref><ref>{{Cite news|author=Nikoghosyan, Hovhannes|title=Kosovo ruling implications for Armenia and Azerbaijan|url=http://www.huliq.com/1/803-kosovo-ruling-implications-armenia-and-azerbaijan|newspaper=HULIQ.com|publisher=Hareyan Publishing, LLC|date=August 2010|accessdate=17 April 2011}}</ref> [[Foreign relations of Artsakh|recognized only by]] [[Abkhazia]],<ref name=\"NKRrecognition\">[http://ararat-online.ru/news/984-2025-vice-spiker-parlamenta-abxazii-vybory-v-nkr-sootvetstvuyut-vsem-mezhdunarodnym-standartam.html Вице-спикер парламента Абхазии: Выборы в НКР соответствуют всем международным стандартам]: \"Абхазия, Южная Осетия, НКР и Приднестровье уже давно признали независимость друг друга и очень тесно сотрудничают между собой\", – сказал вице-спикер парламента Абхазии. ... \"...Абхазия признала независимость Нагорно-Карабахской Республики...\" – сказал он.\"</ref> [[South Ossetia]]<ref name=\"NKRrecognition\"/> and [[Transnistria]].<ref name=\"NKRrecognition\"/><ref name=\"transgovt\">{{cite web|url=http://pridnestrovie.net/foreignpolicy_full.html |title=In detail: The foreign policy of Pridnestrovie |publisher=[[Pridnestrovie]] |date=26 May 2010 |accessdate=29 June 2010 |url-status=dead |archiveurl=https://web.archive.org/web/20080511144044/http://pridnestrovie.net/foreignpolicy_full.html |archivedate=11 May 2008 }}</ref> Claimed in whole by [[#Azerbaijan|Azerbaijan]].<ref>[http://news.bbc.co.uk/1/hi/world/europe/country_profiles/3658938.stm \\'\\'Regions and territories\\'\\': Nagorno-Karabakh] (17 January 2006). BBC News. Retrieved 17 January 2006.</ref>\\n|-\\n|style=\"vertical-align:top;\"|<span id=\"Cook Islands\"></span>\\'\\'\\'{{flag|Cook Islands}}\\'\\'\\'\\n| style=\"background:lightgreen;\" |<span style=\"display:none\">D</span> Member of eight [[List of specialized agencies of the United Nations|UN specialized agencies]]\\n|<span style=\"display:none\">A</span> None<br /><small>(See [[Political status of the Cook Islands and Niue|political status]])</small>\\n{{extent}}A state in [[associated state|free association]] with [[#New Zealand|New Zealand]], {{Numrel|CK|alt2=the Cook Islands maintains |diplomatic relations with|states|O=Y}}. The Cook Islands is a member of [[list of specialized agencies of the United Nations|multiple UN agencies]] with full treaty making capacity.<ref name=\"untreaty1\"/> It shares a [[Monarchy of New Zealand|head of state]] with New Zealand as well as having [[New Zealand nationality law|shared citizenship]].\\n|-\\n|style=\"vertical-align:top;\"|<span id=\"Kosovo\"></span>\\'\\'\\'{{flag|Kosovo}}\\'\\'\\'&nbsp;– Republic of Kosovo\\n| style=\"background:lightgreen;\" |<span style=\"display:none\">D</span> Member of two [[List of specialized agencies of the United Nations|UN specialized agencies]]\\n| style=\"background:LightCoral;\" |{{claimedby|SERBIA}}\\n{{extent}}Pursuant to [[United Nations Security Council Resolution 1244]], Kosovo was placed under the administration of the [[United Nations Interim Administration Mission in Kosovo]] in 1999.<ref>{{cite web|title=United Nations Interim Administration Mission in Kosovo|url=https://www.un.org/en/peacekeeping/missions/unmik/|website=UN|accessdate=8 January 2015}}</ref> Kosovo [[2008 Kosovo declaration of independence|declared independence in 2008]], and it has {{Numrec|Kos|received diplomatic recognition from|UN member states}} and the [[Republic of China]]. Serbia continues to maintain its sovereignty claim over Kosovo. Other UN member states and non UN member states continue to recognise Serbian sovereignty or have taken no position on the question. Kosovo is a member of the [[International Monetary Fund]] and the [[World Bank Group]]. The Republic of Kosovo has de facto control over most of the territory, with limited control in [[North Kosovo]].\\n|-\\n|style=\"vertical-align:top;\"|<span id=\"Niue\"></span>\\'\\'\\'{{flag|Niue}}\\'\\'\\'\\n| style=\"background:lightgreen;\"|<span style=\"display:none\">D</span> Member of five [[List of specialized agencies of the United Nations|UN specialized agencies]]\\n|<span style=\"display:none\">A</span> None<br /><small>(See [[Political status of the Cook Islands and Niue|political status]])</small>\\n{{extent}}A state in [[associated state|free association]] with [[#New Zealand|New Zealand]], {{Numrel|Niue|alt2=Niue maintains |diplomatic relations with|states|O=Y}}. Niue is a member of [[list of specialized agencies of the United Nations|multiple UN agencies]] with full treaty making capacity.<ref name=\"untreaty1\"/> It shares a [[Monarchy of New Zealand|head of state]] with New Zealand as well as having [[New Zealand nationality law|shared citizenship]].\\n|-\\n|style=\"vertical-align:top;\"|<span id=\"Northern Cyprus\"></span>\\'\\'\\'{{flag|Northern Cyprus}}\\'\\'\\'&nbsp;– Turkish Republic of Northern Cyprus\\n| style=\"background:LemonChiffon;\" |<span style=\"display:none\">D</span> No membership\\n| style=\"background:LightCoral;\" | {{claimedby|CYPRUS}}\\n{{extent}} [[Foreign relations of Northern Cyprus|Recognised only by]] [[#Turkey|Turkey]]. Under the name \"Turkish Cypriot State\", it is an observer state of the [[Organisation of Islamic Cooperation]] and the [[Economic Cooperation Organization]]. Northern Cyprus is claimed in whole by the [[#Cyprus|Republic of Cyprus]].<ref>[https://www.cia.gov/library/publications/the-world-factbook/geos/cy.html The World Factbook|Cyprus] (10 January 2006). Central Intelligence Agency. \\'\\'Retrieved 17 January 2006\\'\\'.</ref>\\n|-\\n|style=\"vertical-align:top;\"|<span id=\"SADR\"></span>\\'\\'\\'{{flag|Sahrawi Arab Democratic Republic}}\\'\\'\\'\\n| style=\"background:LemonChiffon;\" |<span style=\"display:none\">D</span> No membership\\n| style=\"background:LightCoral;\" |{{claimedby|MOROCCO}}\\n{{extent}}Recognised at some stage by {{Numrec|SADR||UN member states}}, {{Numrec|SADR|W=Y|link=N}} of which have since withdrawn or frozen their recognition. It is a founding member of the [[African Union]] and the Asian–African Strategic Partnership formed at the 2005 [[Asian–African Conference]]. The territories under its control, the so-called [[Free Zone (region)|Free Zone]], are claimed in whole by [[#Morocco|Morocco]] as part of its [[Southern Provinces]]. In turn, the Sahrawi Arab Democratic Republic claims the part of [[Western Sahara]] to the west of the [[Wall (Western Sahara)|Moroccan Wall]] controlled by Morocco. Its government resides in exile in [[Tindouf]], [[#Algeria|Algeria]].\\n|-\\n|style=\"vertical-align:top;\"|<span id=\"Somaliland\"></span>\\'\\'\\'{{flag|Somaliland}}\\'\\'\\'&nbsp;– Republic of Somaliland\\n| style=\"background:LemonChiffon;\" |<span style=\"display:none\">D</span> No membership\\n| style=\"background:LightCoral;\" |{{claimedby|SOMALIA}}\\n{{extent}}A de facto independent state,<ref name=montevideo>{{citebook|url=https://books.google.com/books?id=4PwmeRG9QsUC|last1=Ker-Lindsay|first1=James|title=The Foreign Policy of Counter Secession: Preventing the Recognition of Contested States|page=53|publisher=[[Oxford University Press]]|year=2012|quote=In addition to the four cases of contested statehood described above, there are three other territories that have unilaterally declared independence and are generally regarded as having met the Montevideo criteria for statehood but have not been recognized by any states: Transnistria, Nagorny Karabakh, and Somaliland.|accessdate=24 September 2013|df=dmy-all}}</ref><ref name=FailureofStates>{{citejournal|url=http://minnjil.org/wp-content/uploads/2010/04/kreuterweb-pdf.pdf|last1=Kreuter|first1=Aaron|title=Self-Determination, Sovereignty, and the Failure of States: Somaliland and the Case for Justified Secession|journal=[[Minnesota Journal of International Law]]|volume=19:2|pages=380–381|publisher=[[University of Minnesota Law School]]|year=2010|quote=Considering each of these factors, Somaliland has a colorable argument that it meets the theoretical requirements of statehood. ... On these bases, Somaliland appears to have a strong claim to statehood.|accessdate=24 September 2013|df=dmy-all|postscript=.}}</ref><ref name=AfricaReport>{{citejournal|url=http://www.operationspaix.net/IMG/pdf/ICG_Somaliland_AU_Leadership_2006-05-23_.pdf|author=International Crisis Group|title=Somaliland: Time for African Union leadership|journal=[[The Africa Report]]|issue=110|pages=10–13|publisher=[[Jeune Afrique|Groupe Jeune Afrique]]|date=23 May 2006|accessdate=19 April 2011|url-status=dead|archiveurl=https://web.archive.org/web/20110720022321/http://www.operationspaix.net/IMG/pdf/ICG_Somaliland_AU_Leadership_2006-05-23_.pdf|archivedate=20 July 2011|df=dmy-all|postscript=.}}</ref><ref name=PolSomaliland>{{citejournal|url=http://www.somalilandtimes.net/sl/2009/403/P200.pdf|last1=Mesfin|first1=Berouk|title=The political development of Somaliland and its conflict with Puntland|journal=ISS Paper|issue=200|page=8|publisher=[[Institute for Security Studies]]|date=September 2009|accessdate=19 April 2011|url-status=dead|archiveurl=https://web.archive.org/web/20111123043040/http://www.somalilandtimes.net/sl/2009/403/P200.pdf|archivedate=23 November 2011|df=dmy|postscript=.}}</ref><ref name=StrangeCase>{{citejournal|url=http://yalejournal.org/wp-content/uploads/2011/01/083206arieff.pdf|last1=Arieff|first1=Alexis|title=De Facto Statehood? The Strange Case of Somaliland|journal=[[Yale Journal of International Affairs]]|issue=Spring/Summer 2008|pages=1–79|publisher=International Affairs Council at Yale|accessdate=17 April 2011|df=dmy-all|postscript=.}}</ref> [[Foreign relations of Somaliland|not diplomatically recognised by]] any other state, claimed in whole by the [[#Somalia|Federal Republic of Somalia]].<ref name=\"Somalilandprofile\">{{cite web|title=Somaliland profile|url=https://www.bbc.co.uk/news/world-africa-14115069|publisher=[[BBC News]]|date=14 December 2017|accessdate=27 January 2018}}</ref>\\n|-\\n|style=\"vertical-align:top;\"|<span id=\"South Ossetia\"></span>\\'\\'\\'{{flag|South Ossetia}}\\'\\'\\'&nbsp;– Republic of South Ossetia\\n| style=\"background:LemonChiffon;\" |<span style=\"display:none\">D</span> No membership\\n| style=\"background:LightCoral;\" |{{claimedby|GEORGIA}}\\n{{extent}}A de facto independent state,<ref>{{Cite journal|author=Jansen, Dinah|title=The Conflict between Self-Determination and Territorial Integrity: the South Ossetian Paradigm|url=https://es.scribd.com/document/31659924/The-Conflict-between-Self-Determination-and-Territorial-Integrity-The-South-Ossetian-Paradigm|journal=Geopolitics Vs. Global Governance: Reinterpreting International Security|pages=222–242|year=2009|publisher=Centre for Foreign Policy Studies, University of Dalhousie|isbn=978-1-896440-61-3|postscript=<!-- Bot inserted parameter. Either remove it; or change its value to \".\" for the cite to end in a \".\", as necessary. -->{{inconsistent citations}}}}</ref> [[International recognition of Abkhazia and South Ossetia|recognised by]] Russia, Nicaragua, Nauru, Syria, Venezuela, Abkhazia, Artsakh and Transnistria. Claimed in whole by [[#Georgia|Georgia]] as the [[Provisional Administrative Entity of South Ossetia]].<ref name=\"cnnAbSO\">{{Cite news|title=Russia condemned for recognizing rebel regions|url=http://www.cnn.com/2008/WORLD/europe/08/26/russia.vote.georgia/index.html|publisher=CNN|date=26 August 2008|accessdate=26 August 2008}}</ref>\\n|-\\n|style=\"vertical-align:top;\"|<span id=\"Taiwan\"></span>\\'\\'\\'{{flag|Republic of China|name=Taiwan}}\\'\\'\\'&nbsp;– Republic of China{{efn|name=\"ChinaTaiwan\"}}\\n| style=\"background:Orchid;\" |<span style=\"display:none\">D</span>[[China and the United Nations|Former UN member]] (as Republic of China, 1945–1971)<br />Observer in one [[list of specialized agencies of the United Nations|UN specialized agency]] under the name \"[[Chinese Taipei]]\"\\n| style=\"background:LightCoral;\" |{{claimedby|PRC}}\\n{{extent}}A state competing (nominally) for recognition with the [[China|People\\'s Republic of China]] (PRC) as the government of China since 1949. The Republic of China (ROC) controls the island of [[Taiwan]] and associated islands, Quemoy, Matsu, the Pratas and parts of the [[Spratly Islands]],{{efn|name=\"Spratly\"|The sovereignty over the [[Spratly Islands]] is disputed by [[China]], [[Taiwan]], [[#Vietnam|Vietnam]], and in part by [[#Brunei|Brunei]], [[#Malaysia|Malaysia]], and the [[#Philippines|Philippines]]. Except for Brunei, each of these countries occupies part of the islands (see [[List of territorial disputes]]).}} and has not renounced claims over its annexed territories on the [[Mainland China|mainland]].<ref>{{Cite news |title=Ma refers to China as ROC territory in magazine interview |work=[[Taipei Times]] |date=8 October 2008 |url=http://www.taipeitimes.com/News/taiwan/archives/2008/10/08/2003425320}}</ref> The ROC is recognised by {{Numrec|ROC|asof=E|alt=UN member states and the Holy See as of}}. All these states do not recognise the PRC either. Additionally, one UN member ([[Bhutan]]) has [[Foreign relations of Taiwan#Entities with no relations with either ROC or PRC|refrained from recognising]] either the ROC or the PRC.\\n\\nThe territory of the ROC is claimed in whole by the PRC.{{efn|name=\"TAI2\"|In 1949, the Republic of China government led by the [[Kuomintang]] (KMT) lost the [[Chinese Civil War]] to the [[Communist Party of China]] (CPC) and set up a provisional capital in [[Taipei]]. The CPC established the PRC. As such, the [[political status of Taiwan|political status of the ROC and legal status of Taiwan]] (alongside the [[Free area of the Republic of China|territories]] under ROC jurisdiction) are in dispute. In 1971, the United Nations gave the [[China and the United Nations|China seat]] to the PRC and the ROC withdrew from the UN. Most states recognise the PRC to be the [[One-China policy|sole legitimate representative]] of all China, and the UN classifies Taiwan as \"[[Taiwan Province, People\\'s Republic of China|Taiwan, Province of China]]\". The ROC has de facto relations with most sovereign states. A significant political movement within Taiwan advocates [[Taiwan independence movement|Taiwan independence]].}} The ROC [[Foreign relations of Taiwan#Relations with international organizations|participates in international organizations]] under a variety of pseudonyms, most commonly \"[[Chinese Taipei]]\" and in the [[World Trade Organization|WTO]] it has full membership. The ROC was a founding member of the UN and enjoyed membership from 1945 to 1971, with veto power in the [[United Nations Security Council|UN Security Council]]. See [[China and the United Nations]].\\n|-\\n|style=\"vertical-align:top;\"|<span id=\"Transnistria\"></span>\\'\\'\\'{{flag|Transnistria|state}}\\'\\'\\'&nbsp;– Pridnestrovian Moldavian Republic\\n| style=\"background:LemonChiffon;\" |<span style=\"display:none\">D</span> No membership\\n| style=\"background:LightCoral;\" |{{claimedby|MOLDOVA}}\\n{{extent}}A de facto independent state,<ref name=montevideo/> [[Foreign relations of Transnistria|recognised only by]] Abkhazia, Artsakh and South Ossetia.<ref name=ASOTREC /> Claimed in whole by [[#Moldova|Moldova]] as the [[Transnistria autonomous territorial unit with special legal status|Transnistria autonomous territorial unit]].<ref>[http://news.bbc.co.uk/1/hi/world/europe/country_profiles/3641826.stm \\'\\'Regions and territories\\'\\': Trans-Dniester] (13 December 2005). BBC News. Retrieved 17 January 2006.</ref>\\n|- style=\"background:Lightgrey;\"\\n|style=\"text-align:center;\"|<span style=\"display:none\">ZZZ</span>↑ Other states ↑\\n|<span style=\"display:none\">D ZZZ</span>\\n|<span style=\"display:none\">ZZZ</span>\\n|\\n|- style=\"background:Darkgrey;\"\\n|style=\"text-align:center;\"|<span style=\"display:none\">ZZZZ</span>\\n|<span style=\"display:none\">ZZZZ</span>\\n|<span style=\"display:none\">ZZZZ</span>\\n|\\n|}\\n{|\\n|style=\"vertical-align:top;width:360px;\"|\\'\\'\\'Legend \"Membership within the UN System\" column\\'\\'\\'\\n{{legend|White|UN Member states}}\\n{{legend|LightSkyBlue|UN Observer states}}\\n{{legend|lightgreen|Member of a UN Specialized Agency}}\\n{{legend|orchid|Observer in a UN Specialized Agency}}\\n{{legend|LemonChiffon|No membership in the UN System}}\\n|style=\"vertical-align:top;width:350px;\"|\\'\\'\\'Legend \"Sovereignty dispute\" column\\'\\'\\'\\n{{legend|White|Undisputed sovereignty}}\\n{{legend|LightCoral|Sovereignty disputed}}\\n|}\\n\\n==References==\\n{{reflist}}\\n\\n\\'\\'\\'Notes\\'\\'\\'\\n{{Reflist|group=lower-alpha}}\\n\\n{{DEFAULTSORT:countries}}\\n[[Category:Lists of countries| ]]']\n"
          ],
          "name": "stdout"
        }
      ]
    },
    {
      "cell_type": "markdown",
      "metadata": {
        "id": "Mo1j-Le3ySK6"
      },
      "source": [
        "Voici la liste final dans une variable de type [set](https://docs.python.org/2/library/sets.html)"
      ]
    },
    {
      "cell_type": "code",
      "metadata": {
        "id": "IBAi6gOTyt9O"
      },
      "source": [
        "import re\n",
        "\n",
        "s = str(df[df['title']=='List of countries']['text'].values)\n",
        "pattern = re.compile(r\"\\[\\[([A-Za-z0-9_ ]+)\\]\\]\")\n",
        "\n",
        "my_countries = set([x.group(0)[2:-2] for x in pattern.finditer(s)])\n",
        "my_countries"
      ],
      "execution_count": null,
      "outputs": []
    },
    {
      "cell_type": "markdown",
      "metadata": {
        "id": "lMsYm5SIylpR"
      },
      "source": [
        "Utilisez le code ci-dessus pour accèder à autres pages et extraire des dictionnaires pour les villes, présidents, personnages fictifs, etc."
      ]
    },
    {
      "cell_type": "code",
      "metadata": {
        "id": "ffvIRIs8yRTs"
      },
      "source": [
        "s = str(df[df['title']=='Lists of communes of France']['text'].values)\n",
        "my_communes = set([x for x in pattern.findall(s)])\n",
        "my_communes\n",
        "\n",
        "# pour les villes : Lists of communes of France\n",
        "# pour les présidents : List of presidents of the United States\n",
        "# pour les personnages fictifs : Fictional character\n",
        "# etc..."
      ],
      "execution_count": null,
      "outputs": []
    },
    {
      "cell_type": "markdown",
      "metadata": {
        "id": "hE9iyhkLyyPD"
      },
      "source": [
        "### II - L'usage des règles\n",
        "Les listes ou dictionnaires sont utiles pour identifier les entités nommées, mais ce n'est pas le cas dans\n",
        "la plus part de documents. Dans le deuxième exemple, la chaîne de caractères André Accary est\n",
        "identifié comme un entité nommée de type personne, mais ce nom n’ai pas partie d'un dictionnaire des\n",
        "personnes extrait depuis la Wikipédia (car la page n’existe pas). L'usage de règles est une alternative\n",
        "viable dans ce cas. Par exemple, la règle « mort de TOKEN » (ou sont équivalent en anglais « death\n",
        "of ») peut être utile pour identifier que TOKEN est une entité nommée de type Personne. TOKEN\n",
        "peut être aussi défini comme deux mots qui commencent par une majuscule. Voici le code pour\n",
        "appliquer cette règle sur Wikipédia :"
      ]
    },
    {
      "cell_type": "code",
      "metadata": {
        "id": "qRQPmux12obi"
      },
      "source": [
        "# def findOrga(text): \n",
        "#     pattern1 = \"organization of \"\n",
        "#     pattern =  \" organization\"\n",
        "#     return(text)\n",
        "#     # for val in re.finditer(' organization of [A-Z]\\w+( [A-Z]\\w+)*', text):\n",
        "#     #   # print (val.group(0))\n",
        "#     #   # print(text)\n",
        "#     #   liste = list()\n",
        "#     # for val in re.finditer('[A-Z]\\w+( [A-Z]\\w+)*'+pattern, text):\n",
        "#     #   # print(val.group(0))\n",
        "\n",
        "# for page in df[1:10]['text'] :\n",
        "#   print(findOrga(page))"
      ],
      "execution_count": null,
      "outputs": []
    },
    {
      "cell_type": "code",
      "metadata": {
        "id": "lKfBfW45xa7A"
      },
      "source": [
        "def findPeople(s): \n",
        "  pattern = re.compile(r\"death of ([A-Z]\\w+ [A-Z]\\w+)\")\n",
        "  for x in pattern.finditer(str(s)):\n",
        "    print(str(x.group(0)[9:]))\n",
        "\n",
        "for page in list(df['text']):\n",
        "  findPeople(page)"
      ],
      "execution_count": null,
      "outputs": []
    },
    {
      "cell_type": "code",
      "metadata": {
        "id": "BG2jaUbOMnqn",
        "outputId": "63f25f6a-27df-410b-eabc-d2caa413d2a5",
        "colab": {
          "base_uri": "https://localhost:8080/"
        }
      },
      "source": [
        "#modification du code du dessus pour enlever les doublons\n",
        "def findPeople(s, uneListe): \n",
        "  pattern = re.compile(\"death of ([A-Z]\\w+ [A-Z]\\w+)\")\n",
        "  for x in pattern.findall(str(s)):\n",
        "    uneListe.append(str(x))\n",
        "\n",
        "listePeople = list()\n",
        "for page in list(df['text']):\n",
        "  findPeople(page,listePeople)\n",
        "print(set(listePeople))\n"
      ],
      "execution_count": null,
      "outputs": [
        {
          "output_type": "stream",
          "text": [
            "{'Gavin Watson', 'Pulikeshin II', 'Dr Lo', 'Janine Sutto', 'Kurt Cobain', 'John Paul', 'Cheo Feliciano', 'Charles Jastrow', 'George Francis', 'Raymonde Linossier', 'Sub Officer', 'Emperor Taizu', 'General Anson', 'Victor Amadeus', 'Imam Hussain', 'Italian World', 'Goa Chief', 'British World', 'Lee Batchelor', 'Tipu Sultan', 'Henry Surtees', 'Darth Vader', 'Emperor Chongzhen', 'King Saul', 'Barron Hilton', 'Francis Winslow', 'Mario Jeckle', 'Tom Alexander', 'Baldwin II', 'John Cabot', 'Qu Yuan', 'Father Hidalgo', 'Prince Edward', 'Henry Dashwood', 'Francis II', 'Eloy Inos', 'Tom Mitchell', 'Samuel Huntington', 'Regis Korchinski', 'Wendell Bell', 'Margaret Mary', 'Rachel Donelson', 'George Floyd', 'Louis XV', 'Father François', 'Charles XII', 'Fred Hampton', 'Nasiruddin Mahmood', 'Michael Jackson', 'Wild Bill', 'Charles Kingston', 'Jackie Johns', 'Empress Wu', 'Roberta Cowell', 'Alberta King', 'Edmund Perry', 'General Barnard', 'Murtaja Baseer', 'Johann Wilhelm', 'John Price', 'Lionel Regal', 'Abu Nidal', 'Kiyotoshi Inoue', 'Saint David', 'Dave Williams', 'Bob Edgar', 'Charles II', 'Edgar Russell', 'Jacques Frémontier', 'Konrad Zuse', 'Heath Ledger', 'Fairporter Maartin', 'Giuseppe Mirabella', 'Rainier III', 'Uesugi Noritada', 'Willy Tokarev', 'Marcellus II', 'Qin Liang', 'George Washington', 'Louis XII', 'Freddie Gray', 'Zyed Benna', 'Helen Burns', 'Empress Go', 'Salvador Dali', 'Sima Qian', 'Colombe Benoît', 'Azaria Chamberlain', 'Jadwiga Młynek', 'Bjorg Lambrecht', 'Wazir Hussain', 'Gerry Steinberg', 'Jorge Vergara', 'Papa Shirandula', 'Paul Craft', 'Malcolm II', 'Neda Agha', 'Professor Larry', 'Glenn Frey', 'Emperor Qin', 'Bishop Popp', 'Ahmed Mohsen', 'Jean Darling', 'Shah Jehan', 'Julieka Ivanna', 'Benigno Aquino', 'Hugh Munro', 'Sikander Bakht', 'Eli Vance', 'Osama Bin', 'Sophie Charlotte', 'Frederick William', 'Savannah Jack', 'Bogd Khaan', 'Rudolph Valentino', 'New Mexico', 'Dr Marvin', 'Tammi Terrell', 'Clara Schumann', 'Stuart Lubbock', 'Vice President', 'Charles Beckendorf', 'Lala Lajpat', 'Abu Bakr', 'El Hijo', 'Clement II', 'Jennifer Fitzsimmons', 'Sirius Black', 'Emperor Francis', 'Ernesto Sabato', 'Omar Aggad', 'Mary Jo', 'Governor George', 'Queen Marie', 'Philip II', 'Maria Theresa', 'Peter Godolphin', 'Fire Lord', 'Kobe Bryant', 'Qin Jin', 'Beorhtric Egbert', 'Sultan Muhammad', 'Septimius Severus', 'Lojze Grozde', 'Freddie Mercury', 'Germaine Degueldre', 'Ron Hovey', 'Tina Watson', 'Louise Henriette', 'Eric Carr', 'Muizuddin Muhammad', 'Afghan Emir', 'Grace Lee', 'Ali Vâsib', 'Robert Roe', 'Emperor Montoku', 'Rubén Aguirre', 'Bella Flores', 'Abbot Seniofré', 'Professor Walsh', 'William Adelin', 'Josip Broz', 'Lee Kuan', 'Ernie Hunt', 'Eli Cohen', 'Ed Nimmervoll', 'Gogi Grant', 'Mubarak Shah', 'Ghanaian President', 'Sultan Abu', 'Charles Hawker', 'Mao Zedong', 'Henri Weber', 'Richie Barron', 'Jason Todd', 'Franz Horr', 'President Samora', 'Peter Leopold', 'Don Franks', 'Chief Justice', 'Gilles Lamontagne', 'Professor Xu', 'John Spencer', 'Peter Kassig', 'Michele Scarponi', 'Tom Petty', 'Francis Hyacinth', 'Joe Alaskey', 'Henri Ecochard', 'Louis XIV', 'Stefan Lippe', 'Sultan Illtutmish', 'Mstyslav Volodymyrovych', 'Les Munro', 'Odin Lloyd', 'Soviet Union', 'Erica Yohn', 'Allan Octavian', 'Howard Attfield', 'Cardinal Paolo', 'Mark Duggan', 'Ben Hall', 'King Rudolph', 'Mia Zapata', 'Adele Dunlap', 'Empress Elizabeth', 'Charles Lennox', 'William Shakespeare', 'Queen Noloyiso', 'Kalamazoo Bishop', 'Rin Nohara', 'Lama Yeshe', 'Tommaso Padoa', 'General Mohamed', 'Vince Callahan', 'GEN Kroesen', 'Hugo Meisl', 'Kirtiman Singh', 'Lu Meng', 'Gail Kobe', 'George Shaw', 'Thomas Elsaesser', 'Abdur Rahman', 'Shri AV', 'Chung Jae', 'General Gordon', 'Jan Hooks', 'Janis Roth'}\n"
          ],
          "name": "stdout"
        }
      ]
    },
    {
      "cell_type": "markdown",
      "metadata": {
        "id": "TELlJ4PrzAz7"
      },
      "source": [
        "1) Définir et implémenter des règles pour identifier des entités nommées type Pays et comparer avec la\n",
        "liste qui nous avons extrait auparavant (sans utiliser la page « List of countries »). Quelle pays ont été\n",
        "simples à extraire et pourquoi ? Avez-vous réussir à extraire des pays qui ne font pas partie de la liste ?\n",
        "Pourquoi ? Comment évaluer la pertinence d'une règle ?\n"
      ]
    },
    {
      "cell_type": "code",
      "metadata": {
        "id": "JfDZSMT3NWX4",
        "outputId": "960afa92-e209-426b-c299-58db58561c90",
        "colab": {
          "base_uri": "https://localhost:8080/"
        }
      },
      "source": [
        "#Nouvelle dataframe sans la page \"List of countries\"\n",
        "nouvDF = df.drop(df.loc[df['title']=='List of organisations'].index)\n",
        "\n",
        "#recherche de pays sur chacune des pages restantes\n",
        "def findCountry(s, uneListe): \n",
        "  #pattern = re.compile('born in ([A-Z]\\w+( [A-Z]\\w+)*)')\n",
        "  pattern = re.compile(\"live in \\[\\[([A-Za-z_ ]+)\\]\\]\")\n",
        "  for x in pattern.findall(str(s)):\n",
        "    uneListe.append(str(x))\n",
        "\n",
        "listeCountry = list()\n",
        "for page in list(nouvDF['text']):\n",
        "  findCountry(page,listeCountry)\n",
        "print(set(listeCountry))\n",
        "\n",
        "\n"
      ],
      "execution_count": null,
      "outputs": [
        {
          "output_type": "stream",
          "text": [
            "{'city park', 'Taiwan', 'human', 'Basel', 'South America', 'Chigwell', 'Tahiti', 'desert', 'rainforests', 'brook', 'Cherdyn', 'Aleppo', 'Florida', 'Yingxiu', 'Asgard', 'Sudan', 'Latin America', 'Prague', 'Ludlow Castle', 'Great Britain', 'New York City', 'town', 'Finland', 'arid', 'Mindanao', 'Jammu and Kashmir', 'savanna', 'Hertfordshire', 'Parma', 'castle', 'society', 'Mongolia', 'cloud forest', 'Alaska', 'saltwater', 'hydrothermal vents', 'mainland', 'Tibet', 'savannas', 'Algeria', 'Eastern Arc', 'Christianity', 'caves', 'rural', 'British Columbia', 'Massachusetts', 'cities', 'freshwater', 'Belize', 'Leiden', 'the Americas', 'England', 'rainforest', 'Loudun', 'Lake Saimaa', 'Japan', 'Bolivia', 'Gambia', 'Vienna', 'grassland', 'Malawi', 'herd', 'Madagascar', 'tepee', 'Brooklyn', 'rotting', 'Bilbao', 'Pakistan', 'Copenhagen', 'North Africa', 'Lille', 'root', 'Milano', 'Guyana', 'Azerbaijan', 'wetland', 'Singapore', 'Italy', 'dens', 'Stavanger', 'Toronto', 'Siberia', 'salt water', 'Mauretania', 'Antarctica', 'Vanaheim', 'Baltimore', 'lowland', 'Puerto Rico', 'Thailand', 'North America', 'Beijing', 'Argentina', 'reptile', 'Colombia', 'India', 'Australia', 'Mali', 'urban', 'California Coast Range', 'Oregon', 'Sherwood Forest', 'Europe', 'Arizona', 'rural area', 'urban area', 'Dublin', 'Chicago', 'temperate', 'Pennsylvania', 'Stockholm', 'concert', 'flock', 'Belarus', 'Africa', 'Bangladesh', 'Kerala', 'Switzerland', 'tropical', 'Melbourne', 'Canada', 'tent', 'retirement', 'Calgary', 'evaporation', 'Brazil', 'Central Europe', 'fresh water', 'Sikkim', 'wetlands', 'coral', 'North Macedonia', 'insect', 'forest', 'Rhegium', 'Cape York Peninsula', 'tropical rainforests', 'Audley End', 'conifer', 'harmony', 'Edinburgh', 'Holon', 'Boston', 'Kenya', 'Queensland', 'ant', 'Avila', 'Balochistan', 'Kyoto', 'Israel', 'riparian', 'Tanzania', 'London', 'New Jersey', 'Oman', 'California', 'zoo', 'Arctic', 'Queens', 'hair', 'New York', 'Sri Lanka', 'environment', 'New England', 'France', 'marsh', 'Texas', 'Gotham City', 'Ireland', 'Manchester', 'Mirandola', 'Luke Castellan', 'Nigeria', 'Bulgaria', 'humid', 'Amsterdam', 'America', 'Tasmania', 'Pakistani Punjab', 'Slovakia', 'San Francisco', 'Lollapalooza', 'Maryland', 'tropical rainforest', 'reef', 'Suffolk', 'Nice', 'Eurasia', 'Zimbabwe', 'Asia', 'Guernsey', 'South India', 'Munich', 'Germany', 'Scotland', 'Skeleton Gorge', 'Venice', 'Cameroon', 'Hungary', 'Malaysia', 'Southeast Asia', 'New Guinea', 'Indonesia', 'ghetto', 'Franconia', 'swamp', 'Greater Bilbao', 'brackish water', 'Western Ghats', 'Sydney', 'Quebec', 'Taganrog', 'ocean', 'family', 'virtual reality', 'forests', 'Bondaroy', 'Ethiopia', 'Turkey', 'tree', 'Oklahoma', 'Cuba', 'Hawaii', 'Berlin', 'China', 'Wales', 'sand', 'Aldeburgh', 'South Korea', 'Jubaland', 'Iran', 'Sussex', 'Mauritius', 'Ontario', 'East Asia', 'Magdeburg', 'Montmartre', 'Vermont', 'nomad', 'Hammersmith', 'Jharkhand', 'apartment', 'Los Angeles', 'Sakhalin', 'Sherbrooke', 'Edmonton', 'Central Asia', 'exile', 'Vietnam', 'Norway', 'Paris', 'river', 'peace', 'Milan', 'Portsmouth', 'Houston', 'water', 'Essex', 'Rome', 'Atlanta', 'aquatic', 'Istanbul', 'Peru', 'Rangoon', 'marine environment', 'Syria', 'Botswana', 'woodland', 'habitats', 'cave', 'burrow', 'Hong Kong', 'Tatarstan', 'Western Australia', 'Central America', 'mangrove', 'stream', 'South Africa', 'sediment', 'nature', 'Russia', 'subtropical', 'suburb', 'New Zealand', 'brackish', 'poverty', 'Soignes', 'intertidal area', 'Armenia', 'symbiosis'}\n"
          ],
          "name": "stdout"
        }
      ]
    },
    {
      "cell_type": "markdown",
      "metadata": {
        "id": "5poPsmM1Ju9j"
      },
      "source": [
        "les pays composés d'un seul mot et commençant par une majuscule sont les plus simples à extraire"
      ]
    },
    {
      "cell_type": "code",
      "metadata": {
        "id": "r-Sl5jfVJ1RJ"
      },
      "source": [
        "for ville in listeCountry :\n",
        "  if (ville not in my_countries):\n",
        "    print(ville)"
      ],
      "execution_count": null,
      "outputs": []
    },
    {
      "cell_type": "markdown",
      "metadata": {
        "id": "drg7DXAQJshb"
      },
      "source": [
        "En lançant se code là on trouve des pays non présents dans la liste\n",
        "par exemple la France, Iran n'apparaissent pas dans votre liste...\n",
        "\n",
        "On a réussi à éxtraire ces pays différents car ce sont des pages différentes qui traitent de thématiques différentes donc des pays abordés différents\n",
        "\n",
        "On peut évaluer la pertinence d'une règle en calculant la précision et le rappel"
      ]
    },
    {
      "cell_type": "markdown",
      "metadata": {
        "id": "EY7fBuh0zCfl"
      },
      "source": [
        "2) Définir et implémenter des règles pour identifier des lieux, des organisations, des personnes (morts\n",
        "et vivants), etc.\n"
      ]
    },
    {
      "cell_type": "code",
      "metadata": {
        "id": "Rr6a79O3NXA5",
        "outputId": "64aec979-55b1-499c-8394-6ca3b64bc6c5",
        "colab": {
          "base_uri": "https://localhost:8080/"
        }
      },
      "source": [
        "def findLieu1(s, uneListe): \n",
        "  pattern = re.compile(\"from \\[\\[([A-Za-z_ ]+)\\]\\]\")\n",
        "  for x in pattern.findall(str(s)):\n",
        "    uneListe.append(str(x))\n",
        "\n",
        "def findOrganisation1(s, uneListe): \n",
        "  pattern = re.compile(\"member of \\[\\[([A-Za-z_ ]+)\\]\\]\")\n",
        "  #pattern = re.compile(\"the \\[\\[([A-Za-z_ ]+)\\]\\] was founded\")\n",
        "  for x in pattern.findall(str(s)):\n",
        "    uneListe.append(str(x))\n",
        "\n",
        "def findPersonne1(s, uneListe): \n",
        "  pattern = re.compile(\"mother of \\[\\[([A-Za-z_ ]+)\\]\\]\")\n",
        "  for x in pattern.findall(str(s)):\n",
        "    uneListe.append(str(x))\n",
        "\n",
        "listeLieu = list()\n",
        "listeOrganisation = list()\n",
        "listePersonne = list()\n",
        "for page in list(nouvDF['text']):\n",
        "  # findLieu1(page,listeLieu)\n",
        "  # findOrganisation1(page,listeOrganisation)\n",
        "  findPersonne1(page,listePersonne)\n",
        "\n",
        "print(set(listePersonne))\n",
        "# print(set(listeOrganisation))\n",
        "# print(set(listeLieu))\n",
        "\n"
      ],
      "execution_count": null,
      "outputs": [
        {
          "output_type": "stream",
          "text": [
            "{'Stephen Lawrence', 'Kajol', 'John McCain', 'Queen Elizabeth The Queen Mother', 'Saint Casimir', 'Selena', 'Yeonsangun of Joseon', 'Romulus and Remus', 'Winston Churchill', 'Mitt Romney', 'John Lennon', 'Julius Caesar', 'Matilda of Flanders', 'Centeotl', 'Jennifer Aniston', 'Minotaur', 'Nero', 'Athena', 'Lady Jane Grey', 'Louis XV of France', 'Louis XVII of France', 'Wilhelmina of the Netherlands', 'Bill Clinton', 'Abraham Lincoln', 'Angelina Jolie', 'Bob Marley', 'Marie Antoinette', 'Louis XV', 'Piper McLean', 'Wolfgang Amadeus Mozart', 'Hermes', 'Walt Disney', 'Elizabeth of York', 'Donald Trump', 'Rupert Murdoch', 'Odin', 'Queen Victoria', 'Tupac Shakur', 'Pan', 'Princess Hetepheres', 'Chris Blackwell', 'Henry VIII', 'Thin Lizzy', 'Arkas', 'Herakles', 'Zelus', 'Gungsong Gungtsen', 'Napoleon III of France', 'Queen Juliana', 'John Ritter', 'Shirley Temple', 'Ryan Reynolds', 'Jason Ritter', 'Solymos', 'Shirley Williams', 'Astyanax', 'Hillary Clinton', 'Selene', 'Brett Whiteley', 'Thalassa', 'Rob Reiner', 'Graecus', 'artist', 'Maria I of Portugal', 'Proserpine', 'King Henry VII', 'Laurent Ottoz', 'Aphrodite', 'Lisa Marie Presley', 'Kamala Harris', 'Augustine of Hippo', 'Vali', 'Angela Nikodinov', 'Michelle Obama', 'Persephone', 'Kebechet', 'Emperor Jimmu', 'Phil Lynott', 'Napoleon', 'Benigno Aquino III', 'Joanna of Castile', 'Kim Kardashian', 'Roger II of Sicily', 'Oenomaus', 'Hiroyuki Sonoda', 'Lycus', 'Lacedaemon', 'Dardanus', 'Julia the Elder', 'Thrud', 'Amenhotep I', 'Stephen of England', 'Yi I', 'David I of Scotland', 'Julian Lennon', 'Ashikaga Takauji', 'Pothos', 'Orpheus', 'Pope John Paul II', 'Thor', 'Emperor Heizei', 'Hyrieus', 'Chaz Bono', 'Elizabeth II of the United Kingdom', 'Jesus', 'The Monkees', 'Napoleon Bonaparte', 'June Carter Cash', 'Ronald Reagan', 'Henry IV of Castile', 'Perses', 'United States President', 'Ganesha', 'Emperor Seiwa', 'Jason Voorhees', 'Henry VIII of England', 'Joseph Stalin', 'Philip V of Spain', 'Barack Obama', 'Charles III of Spain', 'Achilles', 'Emperor Kammu', 'Virgin Mary', 'Luke Skywalker', 'Henry VII of England', 'Mary of Teck', 'Edward IV of England', 'Augustus', 'Perseus', 'Henry VI of England', 'James Whistler', 'Sylvester Stallone', 'Louis XVI of France', 'Edward VI of England', 'Patrick Swayze', 'Xi Jinping', 'John Ratzenberger', 'Hecate', 'Anne Frank', 'William III of the Netherlands', 'John the Baptist', 'Lizzie Borden', 'Snow White', 'Adolf Hitler', 'Carrie Fisher', 'John Larsson', 'Elizabeth I of England', 'Sayaka Kanda', 'Ananda Shankar', 'Hedone', 'multiple sclerosis', 'Victoria of the United Kingdom', 'Telemachus', 'Confucius'}\n"
          ],
          "name": "stdout"
        }
      ]
    },
    {
      "cell_type": "markdown",
      "metadata": {
        "id": "fvpayEx2zEOn"
      },
      "source": [
        "3) Définir au moins 3 règles dans lesquelles l'entité nommée n'est pas dans une extrémité de la chaîne\n",
        "de caractères.\n"
      ]
    },
    {
      "cell_type": "code",
      "metadata": {
        "id": "A8mn5lPtNXeG",
        "outputId": "daa71a91-e538-4531-81e7-8d8f88b54759",
        "colab": {
          "base_uri": "https://localhost:8080/"
        }
      },
      "source": [
        "def findLieu2(s, uneListe): \n",
        "  pattern = re.compile(\"the \\[\\[([A-Za-z_ ]+)\\]\\] located \")\n",
        "  for x in pattern.findall(str(s)):\n",
        "    uneListe.append(str(x))\n",
        "\n",
        "def findOrganisation2(s, uneListe): \n",
        "  pattern = re.compile(\"the \\[\\[([A-Za-z_ ]+)\\]\\] was founded\")\n",
        "  for x in pattern.findall(str(s)):\n",
        "    uneListe.append(str(x))\n",
        "\n",
        "def findPersonne2(s, uneListe): \n",
        "  pattern = re.compile(\"where \\[\\[([A-Za-z_ ]+)\\]\\] was\")\n",
        "  for x in pattern.findall(str(s)):\n",
        "    uneListe.append(str(x))\n",
        "\n",
        "listeLieu2 = list()\n",
        "listeOrganisation2 = list()\n",
        "listePersonne2 = list()\n",
        "for page in list(nouvDF['text']):\n",
        "  findLieu2(page,listeLieu2)\n",
        "  # findOrganisation2(page,listeOrganisation2)\n",
        "  findPersonne2(page,listePersonne2)\n",
        "\n",
        "print(set(listePersonne2))\n",
        "# print(set(listeOrganisation2))\n",
        "# print(set(listeLieu2))"
      ],
      "execution_count": null,
      "outputs": [
        {
          "output_type": "stream",
          "text": [
            "{'Moses', 'iron', 'Serbia', 'Ned Kelly', 'Medusa', 'capitalism', 'Nelson Mandela', 'Adam', 'Felix Benda', 'coffee', 'George Washington', 'Garmin', 'photography', 'golf', 'Bhagavad Gita', 'Simon Bolivar', 'gunpowder', 'General Motors', 'radiocarbon dating', 'iron ore', 'Hubert Parry', 'Scott Morrison', 'Thomas Becket', 'Abraham Lincoln', 'Detective Van Zwam', 'Emmett Till', 'Jesus', 'paper', 'north', 'Billy Graham', 'Pablo Picasso', 'Checkpoint Charlie', 'Chris Jericho', 'FM radio'}\n"
          ],
          "name": "stdout"
        }
      ]
    },
    {
      "cell_type": "markdown",
      "metadata": {
        "id": "J4S3iHVxzG1U"
      },
      "source": [
        "4) Définir au moins 3 règles qu'utilise la ponctuation pour trouver les entités nommées.\n"
      ]
    },
    {
      "cell_type": "code",
      "metadata": {
        "id": "s5Ntxf90NX-v",
        "outputId": "da431b70-eb1a-41c5-e1d2-0964d7b8a35d",
        "colab": {
          "base_uri": "https://localhost:8080/"
        }
      },
      "source": [
        "def findPays(s, uneListe): \n",
        "  pattern = re.compile(\"\\[\\[([A-Za-z_ ]+)\\]\\] ;\")\n",
        "  for x in pattern.findall(str(s)):\n",
        "    uneListe.append(str(x))\n",
        "\n",
        "def findPersonne3(s, uneListe): \n",
        "  pattern = re.compile(\"\\- \\[\\[([A-Za-z_ ]+)\\]\\] ?\")\n",
        "  for x in pattern.findall(str(s)):\n",
        "    uneListe.append(str(x))\n",
        "\n",
        "def findLieu3(s, uneListe): \n",
        "  pattern = re.compile(\"\\[\\[([A-Za-z_ ]+)\\]\\] =\")\n",
        "  for x in pattern.findall(str(s)):\n",
        "    uneListe.append(str(x))\n",
        "\n",
        "\n",
        "listePays = list()\n",
        "listeLieu3 = list()\n",
        "listePersonne3 = list()\n",
        "for page in list(nouvDF['text']):\n",
        "  # findLieu3(page,listeLieu3)\n",
        "  # findPersonne3(page,listePersonne3)\n",
        "  findPays(page,listePays)\n",
        "\n",
        "# print(set(listePersonne3))\n",
        "# print(set(listeLieu3))\n",
        "print(set(listePays))"
      ],
      "execution_count": null,
      "outputs": [
        {
          "output_type": "stream",
          "text": [
            "{'Freddie Perren', 'Seychelles', 'International Cricket Council', 'France', 'Belgium', 'software engineering', 'Main Page', 'Brassica', 'Giorgio Moroder', 'ESSEC', 'New Caledonia', 'romanticism', 'Thunder Bay', 'energy', 'Ruth Pointer', 'ISIPCA', 'Yvette Guilbert', 'Bette Midler', 'CIA', 'Foraminifera', 'Kozhikode', 'amoeba'}\n"
          ],
          "name": "stdout"
        }
      ]
    },
    {
      "cell_type": "markdown",
      "metadata": {
        "id": "NXN9IieLzJRW"
      },
      "source": [
        "5) Choisissez aléatoirement 10 pages Wikipédia et appliquez toutes les règles qui vous avez défini.\n",
        "Imprimez les documents avec les entités nommées identifiées. Il y a des manquants ? Il y a des entités\n",
        "nommées de trop ? Évaluez la performance des vos règles en calculant la [precision](https://scikit-learn.org/stable/modules/generated/sklearn.metrics.precision_score.html#sklearn.metrics.precision_score)  et le [rappel](https://scikit-learn.org/stable/modules/generated/sklearn.metrics.precision_score.html#sklearn.metrics.precision_score) de\n",
        "votre implémentation pour ces 10 documents"
      ]
    },
    {
      "cell_type": "code",
      "metadata": {
        "id": "A45GZ5dPNYlv",
        "outputId": "ebc02971-f99f-44c4-a18d-f28ca1e4b06e",
        "colab": {
          "base_uri": "https://localhost:8080/"
        }
      },
      "source": [
        "# Sur 10 pages aléatoires je ne trouve presque rien je n'ai pas pu calculer la précision et\n",
        "# le rappel (si je le calculais ça faisait presque toujours 0)\n",
        "\n",
        "def recherche10page(df,n):\n",
        "  #Extraire 10 textes au hasard\n",
        "  df_extrait = df.sample(n=10, random_state=2)\n",
        "\n",
        "  #Création de toutes les listes\n",
        "  listeLieu1,listeLieu2,listeLieu3 = list(),list(),list()\n",
        "  listeOrganisation1,listeOrganisation2 = list(),list()\n",
        "  listePersonne1,listePersonne2,listePersonne3 = list(),list(),list()\n",
        "\n",
        "  #application de toutes les fonctions\n",
        "  for texte in df_extrait['text']:\n",
        "    findLieu1(texte,listeLieu1),findLieu2(texte,listeLieu2),findPays(texte,listeLieu3)\n",
        "    findOrganisation1(texte,listeOrganisation1),findOrganisation2(texte,listeOrganisation2)\n",
        "    findPersonne1(texte,listePersonne1),findPersonne2(texte,listePersonne2),findPersonne3(texte,listePersonne3)\n",
        "\n",
        "  return(listeLieu3,listeOrganisation1,listePersonne1)\n",
        "\n",
        "Pays,Organisation,Personne = recherche10page(df,10)\n",
        "print(Pays)\n",
        "\n",
        "# Les formules qu'il aurait fallu utiliser si on avait des sorties\n",
        "\n",
        "#précision = entités trouvées vraies / (entités trouvées vraies + entités trouvées fausses)\n",
        "#rappel = entités trouvées vraies / (entités qu'il fallait trouver dans le texte)"
      ],
      "execution_count": null,
      "outputs": [
        {
          "output_type": "stream",
          "text": [
            "[]\n"
          ],
          "name": "stdout"
        }
      ]
    }
  ]
}